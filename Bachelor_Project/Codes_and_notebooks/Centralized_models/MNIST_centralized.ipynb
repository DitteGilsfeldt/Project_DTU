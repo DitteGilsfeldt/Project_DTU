{
 "cells": [
  {
   "cell_type": "markdown",
   "id": "3e4e67de",
   "metadata": {},
   "source": [
    "# **MNIST centralized**"
   ]
  },
  {
   "cell_type": "markdown",
   "id": "f98e6a07",
   "metadata": {},
   "source": [
    "## Imports"
   ]
  },
  {
   "cell_type": "code",
   "execution_count": 1,
   "id": "55d13556",
   "metadata": {},
   "outputs": [],
   "source": [
    "import numpy as np\n",
    "import matplotlib.pyplot as plt\n",
    "import torch\n",
    "from torch.utils.data import DataLoader, TensorDataset\n",
    "import torch.nn as nn\n",
    "import torch.optim as optim\n",
    "from torchvision import datasets, transforms\n",
    "from torchvision import datasets, transforms\n",
    "from sklearn.model_selection import train_test_split\n",
    "from sklearn.metrics import classification_report, confusion_matrix\n",
    "from sklearn.manifold import TSNE\n",
    "import torch.nn.functional as F \n",
    "from sklearn.metrics import classification_report, confusion_matrix, roc_auc_score, average_precision_score\n",
    "from torch.utils.data import DataLoader"
   ]
  },
  {
   "cell_type": "markdown",
   "id": "ab129d91",
   "metadata": {},
   "source": [
    "## Define any transforms you need; at minimum, convert to Tensor"
   ]
  },
  {
   "cell_type": "code",
   "execution_count": 2,
   "id": "5cba267b",
   "metadata": {},
   "outputs": [],
   "source": [
    "transform = transforms.ToTensor()"
   ]
  },
  {
   "cell_type": "markdown",
   "id": "bcaabbd9",
   "metadata": {},
   "source": [
    "# This will download MNIST into ./data if it’s not already there"
   ]
  },
  {
   "cell_type": "code",
   "execution_count": 3,
   "id": "27a7c789",
   "metadata": {},
   "outputs": [],
   "source": [
    "train_dataset = datasets.MNIST(\n",
    "    root='./data',\n",
    "    train=True,\n",
    "    download=True,\n",
    "    transform=transform\n",
    ")"
   ]
  },
  {
   "cell_type": "code",
   "execution_count": 4,
   "id": "d9fb5d50",
   "metadata": {},
   "outputs": [],
   "source": [
    "test_dataset = datasets.MNIST(\n",
    "    root='./data',\n",
    "    train=False,\n",
    "    download=True,\n",
    "    transform=transform\n",
    ")"
   ]
  },
  {
   "cell_type": "code",
   "execution_count": 5,
   "id": "51ec4189",
   "metadata": {},
   "outputs": [
    {
     "name": "stdout",
     "output_type": "stream",
     "text": [
      "Training set size: 60000\n",
      "Test set size: 10000\n"
     ]
    }
   ],
   "source": [
    "print(f\"Training set size: {len(train_dataset)}\")\n",
    "print(f\"Test set size: {len(test_dataset)}\")"
   ]
  },
  {
   "cell_type": "markdown",
   "id": "2e8c6bc4",
   "metadata": {},
   "source": [
    "## Load MNIST and preprocess"
   ]
  },
  {
   "cell_type": "code",
   "execution_count": 6,
   "id": "e7cf5044",
   "metadata": {},
   "outputs": [],
   "source": [
    "transform = transforms.ToTensor()\n",
    "train_ds_full = datasets.MNIST(root='./data', train=True, download=True, transform=transform)\n",
    "test_ds = datasets.MNIST(root='./data', train=False, download=True, transform=transform)\n",
    "X_full = train_ds_full.data.numpy().reshape(-1, 28*28).astype(np.float32) / 255.0\n",
    "y_full = train_ds_full.targets.numpy().astype(np.int64)\n",
    "X_test = test_ds.data.numpy().reshape(-1, 28*28).astype(np.float32) / 255.0\n",
    "y_test = test_ds.targets.numpy().astype(np.int64)"
   ]
  },
  {
   "cell_type": "markdown",
   "id": "3ae54f0f",
   "metadata": {},
   "source": [
    "## Train/val split"
   ]
  },
  {
   "cell_type": "code",
   "execution_count": 7,
   "id": "a449df7e",
   "metadata": {},
   "outputs": [],
   "source": [
    "X_train, X_val, y_train, y_val = train_test_split(\n",
    "    X_full, y_full, test_size=0.2, stratify=y_full, random_state=42\n",
    ")"
   ]
  },
  {
   "cell_type": "markdown",
   "id": "c32c3910",
   "metadata": {},
   "source": [
    "## To Tensors & DataLoaders"
   ]
  },
  {
   "cell_type": "code",
   "execution_count": 8,
   "id": "f83b9464",
   "metadata": {},
   "outputs": [],
   "source": [
    "def to_loader(X, y, batch_size=64, shuffle=False):\n",
    "    tX = torch.from_numpy(X)\n",
    "    ty = torch.from_numpy(y)\n",
    "    ds = TensorDataset(tX, ty)\n",
    "    return DataLoader(ds, batch_size=batch_size, shuffle=shuffle)\n",
    "\n",
    "train_loader = to_loader(X_train, y_train, shuffle=True)\n",
    "val_loader   = to_loader(X_val,   y_val)\n",
    "test_loader  = to_loader(X_test,  y_test)"
   ]
  },
  {
   "cell_type": "markdown",
   "id": "7bebb5ce",
   "metadata": {},
   "source": [
    "## Model (same as yours, final layer → 10)"
   ]
  },
  {
   "cell_type": "code",
   "execution_count": 9,
   "id": "e1c18f67",
   "metadata": {},
   "outputs": [],
   "source": [
    "class MNISTMLP(nn.Module):\n",
    "    def __init__(self, mlp_hidden=256):\n",
    "        super().__init__()\n",
    "        self.net = nn.Sequential(\n",
    "            nn.Linear(28*28, mlp_hidden),\n",
    "            nn.ReLU(inplace=True),\n",
    "            nn.Dropout(0.4),\n",
    "\n",
    "            nn.Linear(mlp_hidden, mlp_hidden//2),\n",
    "            nn.ReLU(inplace=True),\n",
    "            nn.Dropout(0.3),\n",
    "\n",
    "            nn.Linear(mlp_hidden//2, 10),\n",
    "        )\n",
    "\n",
    "    def forward(self, x):\n",
    "        x = x.view(x.size(0), -1)\n",
    "        return self.net(x)"
   ]
  },
  {
   "cell_type": "markdown",
   "id": "08ce1beb",
   "metadata": {},
   "source": [
    "## Loss & optimizer"
   ]
  },
  {
   "cell_type": "code",
   "execution_count": 10,
   "id": "542739f6",
   "metadata": {},
   "outputs": [],
   "source": [
    "device = torch.device(\"cuda\" if torch.cuda.is_available() else \"cpu\")\n",
    "\n",
    "model = MNISTMLP().to(device)\n",
    "criterion = nn.CrossEntropyLoss()\n",
    "optimizer = optim.Adam(model.parameters(), lr=1e-4, weight_decay=1e-5)"
   ]
  },
  {
   "cell_type": "markdown",
   "id": "6cc32f21",
   "metadata": {},
   "source": [
    "## Training / evaluation loops"
   ]
  },
  {
   "cell_type": "code",
   "execution_count": 11,
   "id": "be086518",
   "metadata": {},
   "outputs": [],
   "source": [
    "def train_epoch(loader):\n",
    "    model.train()\n",
    "    total_loss, correct = 0.0, 0\n",
    "    for Xb, yb in loader:\n",
    "        Xb, yb = Xb.to(device), yb.to(device)\n",
    "        optimizer.zero_grad()\n",
    "        out = model(Xb)\n",
    "        loss = criterion(out, yb)\n",
    "        loss.backward()\n",
    "        optimizer.step()\n",
    "        total_loss += loss.item() * Xb.size(0)\n",
    "        preds = out.argmax(dim=1)\n",
    "        correct += (preds == yb).sum().item()\n",
    "    return total_loss/len(loader.dataset), correct/len(loader.dataset)"
   ]
  },
  {
   "cell_type": "code",
   "execution_count": 12,
   "id": "e0675bb2",
   "metadata": {},
   "outputs": [
    {
     "name": "stdout",
     "output_type": "stream",
     "text": [
      "Epoch 1 | Train loss 0.9966, acc 0.724 | Val loss 0.4102, acc 0.893\n",
      "Epoch 2 | Train loss 0.4326, acc 0.874 | Val loss 0.3103, acc 0.913\n",
      "Epoch 3 | Train loss 0.3515, acc 0.898 | Val loss 0.2620, acc 0.924\n",
      "Epoch 4 | Train loss 0.3003, acc 0.913 | Val loss 0.2315, acc 0.933\n",
      "Epoch 5 | Train loss 0.2679, acc 0.922 | Val loss 0.2068, acc 0.940\n",
      "Epoch 6 | Train loss 0.2401, acc 0.930 | Val loss 0.1890, acc 0.944\n",
      "Epoch 7 | Train loss 0.2160, acc 0.937 | Val loss 0.1729, acc 0.948\n",
      "Epoch 8 | Train loss 0.2006, acc 0.941 | Val loss 0.1587, acc 0.952\n",
      "Epoch 9 | Train loss 0.1829, acc 0.946 | Val loss 0.1474, acc 0.956\n",
      "Epoch 10 | Train loss 0.1688, acc 0.950 | Val loss 0.1400, acc 0.956\n",
      "Epoch 11 | Train loss 0.1615, acc 0.953 | Val loss 0.1322, acc 0.959\n",
      "Epoch 12 | Train loss 0.1502, acc 0.955 | Val loss 0.1247, acc 0.963\n",
      "Epoch 13 | Train loss 0.1395, acc 0.958 | Val loss 0.1179, acc 0.964\n",
      "Epoch 14 | Train loss 0.1308, acc 0.961 | Val loss 0.1131, acc 0.966\n",
      "Epoch 15 | Train loss 0.1247, acc 0.963 | Val loss 0.1082, acc 0.967\n",
      "Epoch 16 | Train loss 0.1179, acc 0.965 | Val loss 0.1061, acc 0.968\n",
      "Epoch 17 | Train loss 0.1132, acc 0.967 | Val loss 0.1014, acc 0.970\n",
      "Epoch 18 | Train loss 0.1077, acc 0.968 | Val loss 0.0980, acc 0.971\n",
      "Epoch 19 | Train loss 0.1016, acc 0.969 | Val loss 0.0960, acc 0.972\n",
      "Epoch 20 | Train loss 0.0985, acc 0.971 | Val loss 0.0937, acc 0.971\n"
     ]
    }
   ],
   "source": [
    "def eval_epoch(loader):\n",
    "    model.eval()\n",
    "    total_loss, correct = 0.0, 0\n",
    "    with torch.no_grad():\n",
    "        for Xb, yb in loader:\n",
    "            Xb, yb = Xb.to(device), yb.to(device)\n",
    "            out = model(Xb)\n",
    "            loss = criterion(out, yb)\n",
    "            total_loss += loss.item() * Xb.size(0)\n",
    "            correct += (out.argmax(dim=1) == yb).sum().item()\n",
    "    return total_loss/len(loader.dataset), correct/len(loader.dataset)\n",
    "\n",
    "history = {\"train_loss\":[], \"train_acc\":[], \"val_loss\":[], \"val_acc\":[]}\n",
    "\n",
    "best_val, wait, patience = float('inf'), 0, 5\n",
    "for epoch in range(1, 21):\n",
    "    tr_loss, tr_acc = train_epoch(train_loader)\n",
    "    va_loss, va_acc = eval_epoch(val_loader)\n",
    "    history[\"train_loss\"].append(tr_loss)\n",
    "    history[\"train_acc\"].append(tr_acc)\n",
    "    history[\"val_loss\"].append(va_loss)\n",
    "    history[\"val_acc\"].append(va_acc)\n",
    "    print(f\"Epoch {epoch} | Train loss {tr_loss:.4f}, acc {tr_acc:.3f} | Val loss {va_loss:.4f}, acc {va_acc:.3f}\")\n",
    "    if va_loss < best_val:\n",
    "        best_val, wait = va_loss, 0\n",
    "    else:\n",
    "        wait += 1\n",
    "        if wait >= patience:\n",
    "            print(f\"Early stopping at epoch {epoch}\")\n",
    "            break"
   ]
  },
  {
   "cell_type": "markdown",
   "id": "6a6e3b27",
   "metadata": {},
   "source": [
    "## Plot loss & accuracy"
   ]
  },
  {
   "cell_type": "code",
   "execution_count": 25,
   "id": "e24acc0a",
   "metadata": {},
   "outputs": [
    {
     "data": {
      "text/plain": [
       "<Figure size 1000x500 with 0 Axes>"
      ]
     },
     "metadata": {},
     "output_type": "display_data"
    },
    {
     "data": {
      "image/png": "[encoded data removed]",
      "text/plain": [
       "<Figure size 640x480 with 1 Axes>"
      ]
     },
     "metadata": {},
     "output_type": "display_data"
    },
    {
     "data": {
      "image/png": "[encoded data removed]",
      "text/plain": [
       "<Figure size 640x480 with 1 Axes>"
      ]
     },
     "metadata": {},
     "output_type": "display_data"
    }
   ],
   "source": [
    "epochs = range(1, len(history[\"train_loss\"])+1)\n",
    "plt.figure(figsize=(10, 5))\n",
    "plt.figure(); plt.plot(epochs, history[\"train_loss\"], label='Train loss'); plt.plot(epochs, history[\"val_loss\"], label='Test loss')\n",
    "plt.xlabel('Epoch'); plt.ylabel('Loss'); plt.title('MNIST Loss'); plt.legend(); plt.ylim(0,1.05); plt.show()\n",
    "plt.figure(); plt.plot(epochs, history[\"train_acc\"], label='Train acc'); plt.plot(epochs, history[\"val_acc\"], label='Test acc')\n",
    "plt.xlabel('Epoch'); plt.ylabel('Accuracy'); plt.title('MNIST Accuracy'); plt.legend(); plt.ylim(0,1); plt.show()"
   ]
  },
  {
   "cell_type": "markdown",
   "id": "f284ab78",
   "metadata": {},
   "source": [
    "## Test set metrics"
   ]
  },
  {
   "cell_type": "code",
   "execution_count": null,
   "id": "7cf87c20",
   "metadata": {},
   "outputs": [
    {
     "name": "stdout",
     "output_type": "stream",
     "text": [
      "=== Centralized Model Metrics ===\n",
      "Classification report:\n",
      "\n",
      "              precision    recall  f1-score   support\n",
      "\n",
      "           0     0.9729    0.9898    0.9813       980\n",
      "           1     0.9833    0.9859    0.9846      1135\n",
      "           2     0.9730    0.9767    0.9749      1032\n",
      "           3     0.9666    0.9733    0.9699      1010\n",
      "           4     0.9765    0.9735    0.9750       982\n",
      "           5     0.9677    0.9731    0.9704       892\n",
      "           6     0.9680    0.9781    0.9730       958\n",
      "           7     0.9792    0.9621    0.9706      1028\n",
      "           8     0.9709    0.9579    0.9643       974\n",
      "           9     0.9689    0.9574    0.9631      1009\n",
      "\n",
      "    accuracy                         0.9729     10000\n",
      "   macro avg     0.9727    0.9728    0.9727     10000\n",
      "weighted avg     0.9729    0.9729    0.9729     10000\n",
      "\n",
      "Confusion matrix:\n",
      "\n",
      "[[ 970    0    1    1    0    3    2    1    1    1]\n",
      " [   0 1119    3    2    0    1    4    1    5    0]\n",
      " [   6    1 1008    3    1    0    2    3    8    0]\n",
      " [   0    0    7  983    0    8    0    5    5    2]\n",
      " [   0    0    3    0  956    0    8    2    2   11]\n",
      " [   2    1    0    4    2  868    8    0    3    4]\n",
      " [   9    3    0    0    2    5  937    0    2    0]\n",
      " [   2    7   13    6    0    0    0  989    0   11]\n",
      " [   4    1    1   11    5    6    7    4  933    2]\n",
      " [   4    6    0    7   13    6    0    5    2  966]]\n",
      "ROC-AUC (macro OvR):       0.9995\n",
      "PR-AUC (avg precision):    0.9961\n",
      "\n"
     ]
    }
   ],
   "source": [
    "def evaluate_classification_centralized(model, loader, device):\n",
    "    model.eval().to(device)\n",
    "    all_probs_list = [] # Use a list to append batches of probabilities\n",
    "    all_labels_list = [] # Use a list to append batches of labels\n",
    "\n",
    "    with torch.no_grad():\n",
    "        for Xb, yb in loader:\n",
    "            Xb = Xb.to(device)\n",
    "            logits = model(Xb)\n",
    "            # It's generally better to use torch.softmax\n",
    "            probs = torch.softmax(logits, dim=1).cpu().numpy()\n",
    "            all_probs_list.append(probs)\n",
    "            all_labels_list.append(yb.cpu().numpy()) # Ensure labels are also moved to CPU before converting to numpy\n",
    "\n",
    "    all_probs  = np.concatenate(all_probs_list, axis=0)\n",
    "    all_labels = np.concatenate(all_labels_list, axis=0)\n",
    "\n",
    "    # Predicted classes\n",
    "    preds = all_probs.argmax(axis=1)\n",
    "\n",
    "    # Precision / Recall / F1\n",
    "    print(\"Classification report:\\n\")\n",
    "    print(classification_report(all_labels, preds, digits=4))\n",
    "\n",
    "    # Confusion matrix\n",
    "    print(\"Confusion matrix:\\n\")\n",
    "    print(confusion_matrix(all_labels, preds))\n",
    "\n",
    "    roc_auc = roc_auc_score(all_labels, all_probs,\n",
    "                            multi_class='ovr', average='macro')\n",
    "\n",
    "    pr_auc  = average_precision_score(all_labels, all_probs,\n",
    "                                      average='macro')\n",
    "\n",
    "    print(f\"ROC-AUC (macro OvR):       {roc_auc:.4f}\")\n",
    "    print(f\"PR-AUC (avg precision):    {pr_auc:.4f}\")\n",
    "    print()\n",
    "\n",
    "print(\"=== Centralized Model Metrics ===\")\n",
    "evaluate_classification_centralized(model, test_loader, device)"
   ]
  },
  {
   "cell_type": "markdown",
   "id": "07412e1c",
   "metadata": {},
   "source": [
    "## t-SNE visualization of penultimate-layer features"
   ]
  },
  {
   "cell_type": "markdown",
   "id": "3ae3f02a",
   "metadata": {},
   "source": [
    "### build a feature‐extractor (everything up to, but not including, the final Linear)"
   ]
  },
  {
   "cell_type": "code",
   "execution_count": 15,
   "id": "a4f4cd8f",
   "metadata": {},
   "outputs": [
    {
     "data": {
      "text/plain": [
       "MNISTMLP(\n",
       "  (net): Sequential(\n",
       "    (0): Linear(in_features=784, out_features=256, bias=True)\n",
       "    (1): ReLU(inplace=True)\n",
       "    (2): Dropout(p=0.4, inplace=False)\n",
       "    (3): Linear(in_features=256, out_features=128, bias=True)\n",
       "    (4): ReLU(inplace=True)\n",
       "    (5): Dropout(p=0.3, inplace=False)\n",
       "    (6): Linear(in_features=128, out_features=10, bias=True)\n",
       "  )\n",
       ")"
      ]
     },
     "execution_count": 15,
     "metadata": {},
     "output_type": "execute_result"
    }
   ],
   "source": [
    "feat_extractor = nn.Sequential(*list(model.net.children())[:-1]).to(device)\n",
    "model.eval()"
   ]
  },
  {
   "cell_type": "markdown",
   "id": "502c9c31",
   "metadata": {},
   "source": [
    "### gather features + labels on the test set"
   ]
  },
  {
   "cell_type": "code",
   "execution_count": null,
   "id": "47831887",
   "metadata": {},
   "outputs": [],
   "source": [
    "all_feats, all_labels = [], []\n",
    "with torch.no_grad():\n",
    "    for Xb, yb in test_loader:\n",
    "        Xb = Xb.to(device)\n",
    "        feats = feat_extractor(Xb) \n",
    "        all_feats.append(feats.cpu().numpy())\n",
    "        all_labels.append(yb.numpy())\n",
    "all_feats = np.concatenate(all_feats, axis=0)\n",
    "all_labels = np.concatenate(all_labels, axis=0)"
   ]
  }
 ],
 "metadata": {
  "kernelspec": {
   "display_name": "base",
   "language": "python",
   "name": "python3"
  },
  "language_info": {
   "codemirror_mode": {
    "name": "ipython",
    "version": 3
   },
   "file_extension": ".py",
   "mimetype": "text/x-python",
   "name": "python",
   "nbconvert_exporter": "python",
   "pygments_lexer": "ipython3",
   "version": "3.12.9"
  }
 },
 "nbformat": 4,
 "nbformat_minor": 5
}

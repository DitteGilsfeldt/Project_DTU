{
 "cells": [
  {
   "cell_type": "code",
   "execution_count": 1,
   "metadata": {},
   "outputs": [],
   "source": [
    "import numpy as np\n",
    "import re\n",
    "from keras.models import Sequential, Model\n",
    "from keras.layers import Dense, Masking\n",
    "from keras.layers import LSTM\n",
    "from keras.layers import Input\n",
    "from keras.utils import np_utils"
   ]
  },
  {
   "cell_type": "code",
   "execution_count": null,
   "metadata": {},
   "outputs": [],
   "source": [
    "\n",
    "Lalphabet = [\"Once\", \"upon\", \"a\", \"time,\", \"in\", \"a\", \"far-off\", \"kingdom,\", \"there\", \"was\", \"a\", \"kind\", \"and\", \"noble\", \"king!\", \"who\", \"ruled\", \"over\", \"a\", \"peaceful\", \"and\", \"prosperous\", \"land.\", \"One\", \"day,\", \"an\", \"evil\", \"sorceress\", \"appeared\", \"and\", \"cast\", \"a\", \"spell\", \"on\", \"the\", \"king,\", \"causing\", \"him\", \"to\", \"fall\", \"into\", \"a\", \"deep\", \"sleep.\", \"The\", \"sorceress\", \"declared\", \"that\", \"the\", \"only\", \"way\", \"to\", \"break\", \"the\", \"spell\", \"was\", \"for\", \"a\", \"brave\", \"and\", \"courageous\", \"hero\", \"to\", \"journey\", \"to\", \"the\", \"top\", \"of\", \"a\", \"tall,\", \"treacherous\", \"mountain\", \"and\", \"retrieve\", \"a\", \"magical\", \"flower.\", \"Many\", \"brave\", \"knights\", \"tried\", \"to\", \"undertake\", \"the\", \"quest,\", \"but\", \"none\", \"were\", \"successful.\", \"The\", \"mountain\", \"was\", \"filled\", \"with\", \"dangerous\", \"creatures\", \"and\", \"perilous\", \"obstacles,\", \"and\", \"many\", \"knights\", \"never\", \"returned.\", \"One\", \"day,\", \"a\", \"young\", \"squire\", \"named\", \"Jack\", \"decided\", \"to\", \"attempt\", \"the\", \"quest.\", \"He\", \"had\", \"always\", \"been\", \"fascinated\", \"by\", \"tales\", \"of\", \"magic\", \"and\", \"adventure,\", \"and\", \"he\", \"was\", \"determined\", \"to\", \"be\", \"the\", \"one\", \"to\", \"break\", \"the\", \"spell\", \"and\", \"save\", \"the\", \"king.\", \"Despite\", \"the\", \"warnings\", \"of\", \"his\", \"friends\", \"and\", \"family,\", \"Jack\", \"set\", \"out\", \"on\", \"his\", \"journey,\", \"armed\", \"with\", \"only\", \"a\", \"sword\", \"and\", \"a\", \"shield.\", \"After\", \"many\", \"trials\", \"and\", \"tribulations,\", \"Jack\", \"finally\", \"reached\", \"the\", \"top\", \"of\", \"the\", \"mountain\", \"and\", \"plucked\", \"the\", \"magical\", \"flower.\", \"He\", \"brought\", \"it\", \"back\", \"to\", \"the\", \"kingdom,\", \"and\", \"when\", \"the\", \"sorceress\", \"saw\", \"it,\", \"she\", \"knew\", \"that\", \"the\", \"spell\", \"had\", \"been\", \"broken.\", \"The\", \"king\", \"awoke\", \"from\", \"his\", \"slumber,\", \"and\", \"the\", \"kingdom\", \"rejoiced.\", \"Jack\", \"was\", \"hailed\", \"as\", \"a\", \"hero,\", \"and\",\"X\"]\n",
    "palphabet= []\n",
    "for i in Lalphabet:\n",
    "  palphabet.append(i.lower())\n",
    "\n",
    "split_alphabet = []\n",
    "for word in palphabet:\n",
    "    if word[-1] in [',',\".\",\"!\",\"?\"]:\n",
    "        split_alphabet.append(word[0:-1])\n",
    "        split_alphabet.append(word[-1])\n",
    "    else:\n",
    "      split_alphabet.append(word)\n",
    "print(split_alphabet)\n",
    "\n",
    "alphabet = split_alphabet"
   ]
  },
  {
   "cell_type": "code",
   "execution_count": null,
   "metadata": {},
   "outputs": [],
   "source": [
    "# define the raw dataset\n",
    "tt = [\"Hej\",\"med\",\"dig\",\"jeg\",\"hedder\",\"Tristan\",\"og\",\"dør\",\"ofte\",\"i\",\"D&D\"]\n",
    "sentence = list(set(alphabet))\n",
    "# create mapping of characters to integers (0-25) and the reverse\n",
    "char_to_int = dict((c, i) for i, c in enumerate(alphabet))\n",
    "int_to_char = dict((i, c) for i, c in enumerate(alphabet))"
   ]
  },
  {
   "cell_type": "code",
   "execution_count": null,
   "metadata": {},
   "outputs": [],
   "source": [
    "# Define the sequence lengths to use\n",
    "seq_lengths = [1, 2, 3]\n",
    "max_length = max(seq_lengths)\n",
    "\n",
    "# Prepare the dataset of input to output pairs encoded as integers\n",
    "dataX = []\n",
    "dataY = []\n",
    "for seq_length in seq_lengths:\n",
    "    for i in range(0, len(alphabet) - seq_length, 1):\n",
    "        seq_in = alphabet[i:i + seq_length]\n",
    "        seq_out = alphabet[i + seq_length]\n",
    "        dataX.append([char_to_int[char] for char in seq_in])\n",
    "        dataY.append(char_to_int[seq_out])\n",
    "\n",
    "# Calculate the number of samples in dataX\n",
    "num_samples = len(dataX)\n",
    "\n",
    "# Reshape the input data\n",
    "X = np.zeros((num_samples, max_length, 1), dtype=np.float32)\n",
    "for i, x in enumerate(dataX):\n",
    "    for j, c in enumerate(x):\n",
    "        X[i, j, 0] = c\n",
    "\n",
    "# Normalize the input data\n",
    "X /= float(len(alphabet))\n",
    "\n",
    "# One-hot encode the output data\n",
    "y = np_utils.to_categorical(dataY)"
   ]
  },
  {
   "cell_type": "code",
   "execution_count": null,
   "metadata": {},
   "outputs": [],
   "source": [
    "# Define the input layer\n",
    "inputs = Input(shape=(None, 1))  # Accept sequences of any length\n",
    "\n",
    "# Add a masking layer to ignore padded values\n",
    "mask = Masking(mask_value=\"X\")(inputs)\n",
    "\n",
    "# Define the LSTM layer\n",
    "lstm = LSTM(32)(mask)\n",
    "\n",
    "# Define the output layer\n",
    "outputs = Dense(y.shape[1], activation='softmax')(lstm)\n",
    "\n",
    "# Create the model\n",
    "model = Model(inputs, outputs)\n",
    "\n",
    "# Compile the model\n",
    "model.compile(loss='categorical_crossentropy', optimizer='adam', metrics=['accuracy'])\n",
    "\n",
    "# Train the model\n",
    "model.fit(X, y, epochs=100)\n"
   ]
  },
  {
   "cell_type": "code",
   "execution_count": null,
   "metadata": {},
   "outputs": [],
   "source": [
    "# summarize performance of the mode\n",
    "scores = model.evaluate(X, y, verbose=0)\n",
    "print(\"Model Accuracy: %.2f%%\" % (scores[1]*100))"
   ]
  },
  {
   "cell_type": "code",
   "execution_count": null,
   "metadata": {},
   "outputs": [],
   "source": [
    "# demonstrate some model predictions\n",
    "for pattern in dataX:\n",
    "    x = np.reshape(pattern, (1, len(pattern), 1))\n",
    "    x = x / float(len(alphabet))\n",
    "    prediction = model.predict(x, verbose=0)\n",
    "    index = np.argmax(prediction)\n",
    "    result = int_to_char[index]\n",
    "    seq_in = [int_to_char[value] for value in pattern]\n",
    "    print(seq_in, \"->\", result)"
   ]
  },
  {
   "cell_type": "code",
   "execution_count": null,
   "metadata": {},
   "outputs": [],
   "source": [
    "# Encode the input sequence as integers\n",
    "input_sequence = ['the',\"spell\"]\n",
    "input_encoded = [char_to_int[word] for word in input_sequence]\n",
    "\n",
    "# Reshape the input into a 2D array\n",
    "input_array = np.reshape(input_encoded, (1, len(input_sequence), 1))\n",
    "\n",
    "# Normalize the input\n",
    "input_array = input_array / float(len(alphabet))\n",
    "\n",
    "# Predict the next word in the sequence\n",
    "prediction = model.predict(input_array)\n",
    "\n",
    "# Find the index of the word with the highest probability\n",
    "predicted_word_index = np.argmax(prediction)\n",
    "\n",
    "# Decode the predicted word\n",
    "predicted_word = int_to_char[predicted_word_index]\n",
    "\n",
    "print(\"Input sequence:\", input_sequence)\n",
    "print(\"Predicted next word:\", predicted_word)"
   ]
  }
 ],
 "metadata": {
  "kernelspec": {
   "display_name": "Python 3",
   "language": "python",
   "name": "python3"
  },
  "language_info": {
   "codemirror_mode": {
    "name": "ipython",
    "version": 3
   },
   "file_extension": ".py",
   "mimetype": "text/x-python",
   "name": "python",
   "nbconvert_exporter": "python",
   "pygments_lexer": "ipython3",
   "version": "3.10.8"
  },
  "orig_nbformat": 4,
  "vscode": {
   "interpreter": {
    "hash": "43037655d688825dcb9a9caf43b13c8cd270f866c7c082ecdaf3ed594c6e03cc"
   }
  }
 },
 "nbformat": 4,
 "nbformat_minor": 2
}

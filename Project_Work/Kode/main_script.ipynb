{
 "cells": [
  {
   "cell_type": "code",
   "execution_count": null,
   "metadata": {},
   "outputs": [],
   "source": [
    "import pandas as pd\n",
    "import glob\n",
    "import os\n",
    "import numpy as np\n",
    "from datetime import datetime"
   ]
  },
  {
   "cell_type": "markdown",
   "metadata": {},
   "source": [
    "# Creating dfs"
   ]
  },
  {
   "cell_type": "code",
   "execution_count": null,
   "metadata": {},
   "outputs": [],
   "source": [
    "path = r\"L:/LovbeskyttetMapper01/HjertekirurgiDTU/Gruppe_1_DLMV/DO_NOT_TOUCH/\"\n",
    "all_files = glob.glob(os.path.join(path, \"*.csv\"))\n",
    "dataframes = {}\n",
    "\n",
    "for file in all_files:\n",
    "    file_name = os.path.splitext(os.path.basename(file))[0]\n",
    "    dataframes[file_name] = pd.read_csv(file, index_col = 'IDno')"
   ]
  },
  {
   "cell_type": "code",
   "execution_count": null,
   "metadata": {},
   "outputs": [],
   "source": [
    "alco_smoking = pd.read_csv(\"L:/LovbeskyttetMapper01/HjertekirurgiDTU/Gruppe_1_DLMV/DO_NOT_TOUCH/Alkohol og rygning.csv\", index_col='IDno')"
   ]
  },
  {
   "cell_type": "code",
   "execution_count": null,
   "metadata": {},
   "outputs": [],
   "source": [
    "ADT = dataframes[\"ADT\"]\n",
    "haemodynamic = dataframes[\"Advancerede hæmodynamiske mål\"]\n",
    "alco_smoking = dataframes[\"Alkohol og rygning\"]\n",
    "all_operation_1_week_after_first = dataframes[\"Alle operationer lavet en uge efter den føste operation\"]\n",
    "anaestesidata = dataframes[\"Anæstesidata\"]\n",
    "anaestesi_raw = dataframes[\"Anæstesihændelse\"]\n",
    "anaestesi = anaestesi = pd.read_csv(\"L:/LovbeskyttetMapper01/HjertekirurgiDTU/Gruppe_1_DLMV/anaestesi.csv\", index_col='IDno')\n",
    "bleeding = dataframes[\"Blødning\"]\n",
    "dialyse = dataframes[\"Dialyse\"]\n",
    "EKG = dataframes[\"EKG-data\"]\n",
    "ekko = dataframes[\"Ekkokardiografi\"]\n",
    "height = dataframes[\"Højde\"]\n",
    "ITA = dataframes[\"ITA\"]\n",
    "KAG = dataframes[\"KAG data\"]\n",
    "lab = dataframes[\"Lab svar\"]\n",
    "pleuradraen = dataframes[\"Pleuradræn\"]\n",
    "population = dataframes[\"Populationen\"]\n",
    "problem = dataframes[\"Problemliste\"]\n",
    "respirator = dataframes[\"Respirator data\"]\n",
    "total_excretion = dataframes[\"Samlet udskillelse\"]\n",
    "spiromitri = dataframes[\"Spiromitri\"]\n",
    "total_incretion = dataframes[\"Total indgift\"]\n",
    "urin = dataframes[\"Urin\"]\n",
    "weight = dataframes[\"Vægt\"]\n",
    "vitale = dataframes[\"cirk. vitale værdier\"]\n",
    "intellispace = dataframes[\"intellispace\"]\n",
    "medicin = dataframes[\"medicin\"]"
   ]
  },
  {
   "cell_type": "code",
   "execution_count": null,
   "metadata": {},
   "outputs": [],
   "source": [
    "death_year = pd.read_csv(\"L:/LovbeskyttetMapper01/HjertekirurgiDTU/Gruppe_1_DLMV/death_year\", index_col='IDno')"
   ]
  },
  {
   "cell_type": "markdown",
   "metadata": {},
   "source": [
    "# Converting to datetime"
   ]
  },
  {
   "cell_type": "code",
   "execution_count": null,
   "metadata": {},
   "outputs": [],
   "source": [
    "population_ = population.copy()\n",
    "population_['Operationsdato'] = population_['Operationsdato'].apply(lambda x: datetime.strptime(x.rstrip('Z'), '%Y-%m-%dT%H:%M:%S'))\n",
    "population_ = population_.dropna(subset = ['Indlæggelsestidspunkt', 'Udskrivelsestidspunkt'])\n",
    "population_['Indlæggelsestidspunkt'] = population_['Indlæggelsestidspunkt'].apply(lambda x: datetime.strptime(str(x), '%Y-%m-%d %H:%M:%S.%f'))\n",
    "population_['Udskrivelsestidspunkt'] = population_['Udskrivelsestidspunkt'].apply(lambda x: datetime.strptime(str(x), '%Y-%m-%d %H:%M:%S.%f'))\n",
    "population_.loc[population_['Dødsdato'].notnull(), 'Dødsdato'] = population_.loc[population_['Dødsdato'].notnull(), 'Dødsdato'].apply(lambda x: datetime.strptime(str(x), '%Y-%m-%d %H:%M:%S.%f'))\n",
    "\n",
    "population = population_\n",
    "del population_"
   ]
  },
  {
   "cell_type": "markdown",
   "metadata": {},
   "source": [
    "## Defining operation start and finish"
   ]
  },
  {
   "cell_type": "code",
   "execution_count": null,
   "metadata": {},
   "outputs": [],
   "source": [
    "X = anaestesi.groupby(level=0).filter(lambda x: (x['Hændelse'] == 'Induktion').any())\n",
    "X = anaestesi.groupby(level=0).filter(lambda x: (x['Hændelse'] == 'Stop Data Indsamling').any())"
   ]
  },
  {
   "cell_type": "code",
   "execution_count": null,
   "metadata": {},
   "outputs": [],
   "source": [
    "a = X.groupby(level=0, sort=False)['Hændelse'].apply(lambda x: x.duplicated(keep='first'))\n",
    "b = X.groupby(level=0, sort=False)['Hændelse'].apply(lambda x: x == 'Induktion')\n",
    "mask_ind = a & b\n",
    "mask_ind = [not b for b in mask_ind]"
   ]
  },
  {
   "cell_type": "code",
   "execution_count": null,
   "metadata": {},
   "outputs": [],
   "source": [
    "X_ = X[mask_ind]"
   ]
  },
  {
   "cell_type": "code",
   "execution_count": null,
   "metadata": {},
   "outputs": [],
   "source": [
    "c = X_.groupby(level=0, sort=False)['Hændelse'].apply(lambda x: x.duplicated(keep='first'))\n",
    "d = X_.groupby(level=0, sort=False)['Hændelse'].apply(lambda x: x == 'Stop Data Indsamling')\n",
    "mask_stop = c&d\n",
    "mask_stop = [not b for b in mask_stop]"
   ]
  },
  {
   "cell_type": "code",
   "execution_count": null,
   "metadata": {},
   "outputs": [],
   "source": [
    "X = X_[mask_stop]"
   ]
  },
  {
   "cell_type": "code",
   "execution_count": null,
   "metadata": {},
   "outputs": [],
   "source": [
    "X = X.groupby(level=0).filter(lambda x: (x['Hændelse'] == 'Induktion').any())\n",
    "X = X.groupby(level=0).filter(lambda x: (x['Hændelse'] == 'Stop Data Indsamling').any())"
   ]
  },
  {
   "cell_type": "code",
   "execution_count": null,
   "metadata": {},
   "outputs": [],
   "source": [
    "X_ = X.groupby(level=0, sort= False).apply(lambda x: x['Hændelsestidspunkt'] <= x[x['Hændelse'] == 'Stop Data Indsamling']['Hændelsestidspunkt'][0])"
   ]
  },
  {
   "cell_type": "code",
   "execution_count": null,
   "metadata": {},
   "outputs": [],
   "source": [
    "X = X.groupby(level=0).filter(lambda x: ((x['Hændelse'] == 'Aorta tang på').any()))\n",
    "X = X.groupby(level=0).filter(lambda x: (x['Hændelse'] == 'Aorta tang af').any())"
   ]
  },
  {
   "cell_type": "code",
   "execution_count": null,
   "metadata": {},
   "outputs": [],
   "source": [
    "anaestesi = X"
   ]
  },
  {
   "cell_type": "code",
   "execution_count": null,
   "metadata": {},
   "outputs": [],
   "source": [
    "anaestesi = anaestesi.groupby(level=0).filter(lambda x: ((x['Hændelse'] == 'Induktion').any()))\n"
   ]
  },
  {
   "cell_type": "markdown",
   "metadata": {},
   "source": [
    "# Population"
   ]
  },
  {
   "cell_type": "code",
   "execution_count": null,
   "metadata": {},
   "outputs": [],
   "source": [
    "anaestesi = anaestesi = pd.read_csv(\"L:/LovbeskyttetMapper01/HjertekirurgiDTU/Gruppe_1_DLMV/anaestesi.csv\", index_col='IDno')\n",
    "\n",
    "bool = []\n",
    "for i in population.index:\n",
    "    bool.append(i in anaestesi.index.unique())"
   ]
  },
  {
   "cell_type": "code",
   "execution_count": null,
   "metadata": {},
   "outputs": [],
   "source": [
    "population = pd.read_csv(\"L:/LovbeskyttetMapper01/HjertekirurgiDTU/Gruppe_1_DLMV/DO_NOT_TOUCH/Populationen.csv\", index_col='IDno')"
   ]
  },
  {
   "cell_type": "code",
   "execution_count": null,
   "metadata": {},
   "outputs": [],
   "source": [
    "population['Operationsdato'] = population['Operationsdato'].apply(lambda x: datetime.strptime(x.rstrip('Z'), '%Y-%m-%dT%H:%M:%S'))"
   ]
  },
  {
   "cell_type": "code",
   "execution_count": null,
   "metadata": {},
   "outputs": [],
   "source": [
    "bool = []\n",
    "for i in population.index:\n",
    "    bool.append(i in anaestesi.index.unique())"
   ]
  },
  {
   "cell_type": "code",
   "execution_count": null,
   "metadata": {},
   "outputs": [],
   "source": [
    "age = population[bool]['Alder på operationstidspunkt'].groupby(level=0, sort=False).apply(lambda x: x.drop_duplicates(keep ='first'))\n",
    "plc= age.reset_index(0)\n",
    "plc.index = plc.index.rename('asdf')\n",
    "plc = plc.reset_index(0)\n",
    "plc = plc.drop(columns=['asdf'])\n",
    "plc.index = plc['IDno']\n",
    "age = plc.drop(columns='IDno')"
   ]
  },
  {
   "cell_type": "code",
   "execution_count": null,
   "metadata": {},
   "outputs": [],
   "source": [
    "age = age.reset_index().drop_duplicates(subset='IDno', keep='first').set_index('IDno')"
   ]
  },
  {
   "cell_type": "code",
   "execution_count": null,
   "metadata": {},
   "outputs": [],
   "source": [
    "death_year = population[bool]['Død inden for 1 år af operation'].groupby(level=0, sort=False).apply(lambda x: x.drop_duplicates(keep ='first'))\n",
    "plc= death_year.reset_index(0)\n",
    "plc.index = plc.index.rename('asdf')\n",
    "plc = plc.reset_index(0)\n",
    "plc = plc.drop(columns=['asdf'])\n",
    "plc.index = plc['IDno']\n",
    "death_year= plc.drop(columns='IDno')"
   ]
  },
  {
   "cell_type": "code",
   "execution_count": null,
   "metadata": {},
   "outputs": [],
   "source": [
    "death_year.insert(1,'age',age)"
   ]
  },
  {
   "cell_type": "code",
   "execution_count": null,
   "metadata": {},
   "outputs": [],
   "source": [
    "sex = population[bool]['Køn'][~population[bool]['Køn'].index.duplicated(keep='last')]\n",
    "death_year.insert(2, 'sex', sex)"
   ]
  },
  {
   "cell_type": "code",
   "execution_count": null,
   "metadata": {},
   "outputs": [],
   "source": [
    "# Turn strings into numbers and if we see interval, convert it to a single number by calculating the mean\n",
    "\n",
    "def sorting_intervals(genstande):\n",
    "    if isinstance(genstande, str):\n",
    "        if \"-\" in genstande:\n",
    "            lower, upper = map(int, genstande.split('-'))\n",
    "            return round((lower + upper) / 2)\n",
    "        else:\n",
    "            return int(genstande)\n",
    "    elif isinstance(genstande, (int, float)):\n",
    "        return genstande\n",
    "    else:\n",
    "        return None\n",
    "    \n",
    "alco_smoking['Genstande per uge'] = round(alco_smoking['Genstande per uge'].apply(sorting_intervals))\n",
    "alco_smoking['Genstande per uge'].unique()"
   ]
  },
  {
   "cell_type": "code",
   "execution_count": null,
   "metadata": {},
   "outputs": [],
   "source": [
    "alco_smoking = alco_smoking[alco_smoking['Rygning'] != 'Aldrig vurderet']\n",
    "alco_smoking = alco_smoking[alco_smoking['Rygning'] != 'Ukendt']"
   ]
  },
  {
   "cell_type": "code",
   "execution_count": null,
   "metadata": {},
   "outputs": [],
   "source": [
    "alco_smoking = alco_smoking.replace('Ryger, aktuel status ukendt', 'Ryger').replace('Hver dag', 'Ryger').replace('Lejlighedsvis ryger', 'Nogle dage').replace('Udsat for passiv rygning - aldrig været ryger', 'Passiv rygning')"
   ]
  },
  {
   "cell_type": "code",
   "execution_count": null,
   "metadata": {},
   "outputs": [],
   "source": [
    "alco_smoking = alco_smoking[~alco_smoking.index.duplicated(keep='last')]"
   ]
  },
  {
   "cell_type": "code",
   "execution_count": null,
   "metadata": {},
   "outputs": [],
   "source": [
    "fil = [id in list(death_year.index) for id in alco_smoking.index]"
   ]
  },
  {
   "cell_type": "code",
   "execution_count": null,
   "metadata": {},
   "outputs": [],
   "source": [
    "alco_smoking = alco_smoking[fil]"
   ]
  },
  {
   "cell_type": "code",
   "execution_count": null,
   "metadata": {},
   "outputs": [],
   "source": [
    "problem = pd.read_csv(\"L:/LovbeskyttetMapper01/HjertekirurgiDTU/Gruppe_1_DLMV/DO_NOT_TOUCH/Problemliste.csv\", index_col='IDno')"
   ]
  },
  {
   "cell_type": "code",
   "execution_count": null,
   "metadata": {},
   "outputs": [],
   "source": [
    "fil = [id in death_year.index for id in problem.index]\n",
    "problem = problem[fil]"
   ]
  },
  {
   "cell_type": "code",
   "execution_count": null,
   "metadata": {},
   "outputs": [],
   "source": [
    "f = []\n",
    "for d in problem['Diagnose SKS']:\n",
    "    if 'DJ' in str(d):\n",
    "        f.append(True)\n",
    "sum(f)"
   ]
  },
  {
   "cell_type": "code",
   "execution_count": null,
   "metadata": {},
   "outputs": [],
   "source": [
    "filter = []\n",
    "for d in problem['Diagnose SKS']:\n",
    "    if 'DJ4' in str(d):\n",
    "        filter.append(True)\n",
    "    elif 'DJ12' in str(d):\n",
    "        filter.append(True)\n",
    "    elif 'DJ13' in str(d):\n",
    "        filter.append(True)\n",
    "    elif 'DJ14' in str(d):\n",
    "        filter.append(True)\n",
    "    elif 'DJ15' in str(d):\n",
    "        filter.append(True)\n",
    "    elif 'DJ16' in str(d):\n",
    "        filter.append(True)\n",
    "    elif 'DJ17' in str(d):\n",
    "        filter.append(True)\n",
    "    elif 'DJ6' in str(d):\n",
    "        filter.append(True)\n",
    "    elif 'DJ7' in str(d):\n",
    "        filter.append(True)\n",
    "    else:\n",
    "        filter.append(False)\n"
   ]
  },
  {
   "cell_type": "code",
   "execution_count": null,
   "metadata": {},
   "outputs": [],
   "source": [
    "lung_disease_filter = []"
   ]
  },
  {
   "cell_type": "code",
   "execution_count": null,
   "metadata": {},
   "outputs": [],
   "source": [
    "resp_disease_filter = []\n",
    "for d in problem['Diagnose SKS']:\n",
    "    if 'DJ' in str(d):\n",
    "        resp_disease_filter.append(True)\n",
    "    else:\n",
    "        resp_disease_filter.append(False)\n",
    "\n",
    "circ_disease_filter = []\n",
    "for d in problem['Diagnose SKS']:\n",
    "    if 'DI' in str(d):\n",
    "        circ_disease_filter.append(True)\n",
    "    else: \n",
    "        circ_disease_filter.append(False)"
   ]
  },
  {
   "cell_type": "code",
   "execution_count": null,
   "metadata": {},
   "outputs": [],
   "source": [
    "resp_dis = [idx in problem[resp_disease_filter].index.unique() for idx in death_year.index]\n",
    "circ = [idx in problem[circ_disease_filter].index.unique() for idx in death_year.index]"
   ]
  },
  {
   "cell_type": "code",
   "execution_count": null,
   "metadata": {},
   "outputs": [],
   "source": [
    "death_year.insert(3, 'Respiratory Disease', resp_dis)"
   ]
  },
  {
   "cell_type": "code",
   "execution_count": null,
   "metadata": {},
   "outputs": [],
   "source": [
    "death_year.insert(4, 'Circulatory Organ Disease', circ)"
   ]
  },
  {
   "cell_type": "code",
   "execution_count": null,
   "metadata": {},
   "outputs": [],
   "source": [
    "death_year = death_year.replace('Nej', False).replace('Ja',True)"
   ]
  },
  {
   "cell_type": "code",
   "execution_count": null,
   "metadata": {},
   "outputs": [],
   "source": [
    "weight = pd.read_csv(\"L:/LovbeskyttetMapper01/HjertekirurgiDTU/Gruppe_1_DLMV/Vægt.csv\", index_col='IDno')"
   ]
  },
  {
   "cell_type": "code",
   "execution_count": null,
   "metadata": {},
   "outputs": [],
   "source": [
    "w_filt = [idx in anaestesi.index.unique() for idx in weight.index]"
   ]
  },
  {
   "cell_type": "code",
   "execution_count": null,
   "metadata": {},
   "outputs": [],
   "source": [
    "weight = weight[w_filt]"
   ]
  },
  {
   "cell_type": "code",
   "execution_count": null,
   "metadata": {},
   "outputs": [],
   "source": [
    "weight['Målingstidspunkt'] = weight['Målingstidspunkt'].apply(lambda x: datetime.strptime(str(x).rstrip('Z'), '%Y-%m-%dT%H:%M:%S'))"
   ]
  },
  {
   "cell_type": "code",
   "execution_count": null,
   "metadata": {},
   "outputs": [],
   "source": [
    "X = anaestesi[anaestesi['Hændelse'] == 'Stop Data Indsamling']\n"
   ]
  },
  {
   "cell_type": "code",
   "execution_count": null,
   "metadata": {},
   "outputs": [],
   "source": [
    "weight.groupby(level=0, sort = False)['Målingstidspunkt']"
   ]
  },
  {
   "cell_type": "code",
   "execution_count": null,
   "metadata": {},
   "outputs": [],
   "source": [
    "weightavg = (weight['Vægt'].groupby(level=0).head(3)).groupby(level = 0, sort = False).mean()\n"
   ]
  },
  {
   "cell_type": "code",
   "execution_count": null,
   "metadata": {},
   "outputs": [],
   "source": [
    "death_year = death_year.merge(weightavg, how='left', left_index = True, right_index = True)"
   ]
  },
  {
   "cell_type": "code",
   "execution_count": null,
   "metadata": {},
   "outputs": [],
   "source": [
    "height = pd.read_csv(\"L:/LovbeskyttetMapper01/HjertekirurgiDTU/Gruppe_1_DLMV/Højde.csv\", index_col='IDno', sep=';')"
   ]
  },
  {
   "cell_type": "code",
   "execution_count": null,
   "metadata": {},
   "outputs": [],
   "source": [
    "height['Højde'] = height['Højde'].apply(lambda x: float(x.replace(',', '.')))"
   ]
  },
  {
   "cell_type": "code",
   "execution_count": null,
   "metadata": {},
   "outputs": [],
   "source": [
    "avg_height = height['Højde'].groupby(level=0, sort = False).mean()"
   ]
  },
  {
   "cell_type": "code",
   "execution_count": null,
   "metadata": {},
   "outputs": [],
   "source": [
    "death_year = death_year.merge(avg_height, how='left', left_index=True, right_index=True)"
   ]
  },
  {
   "cell_type": "code",
   "execution_count": null,
   "metadata": {},
   "outputs": [],
   "source": [
    "spiromitri = pd.read_csv(\"L:/LovbeskyttetMapper01/HjertekirurgiDTU/Gruppe_1_DLMV/Spiromitri.csv\", index_col='IDno', sep=';')\n"
   ]
  },
  {
   "cell_type": "code",
   "execution_count": null,
   "metadata": {},
   "outputs": [],
   "source": [
    "FVC_mask = ~spiromitri[spiromitri['Prøve'] == 'FVC (%)'].index.duplicated()\n",
    "spiromitri[spiromitri['Prøve'] == 'FVC (%)'][FVC_mask]"
   ]
  },
  {
   "cell_type": "code",
   "execution_count": null,
   "metadata": {},
   "outputs": [],
   "source": [
    "FEV_mask = ~spiromitri[spiromitri['Prøve'] == 'FEV 1 / FVC'].index.duplicated()\n",
    "spiromitri[spiromitri['Prøve'] == 'FEV 1 / FVC'][FEV_mask]"
   ]
  },
  {
   "cell_type": "code",
   "execution_count": null,
   "metadata": {},
   "outputs": [],
   "source": [
    "FEV = spiromitri[spiromitri['Prøve'] == 'FEV 1 / FVC'][FEV_mask]"
   ]
  },
  {
   "cell_type": "code",
   "execution_count": null,
   "metadata": {},
   "outputs": [],
   "source": [
    "for i in FEV.index:\n",
    "    j = FEV['Værdi'].loc[i]\n",
    "\n",
    "    if isinstance(j, str):\n",
    "        j = j.strip()\n",
    "        if '0.' in j:\n",
    "            FEV.at[i, 'Værdi'] = float(j) * 100\n",
    "        \n",
    "        elif 'n' in j or j == '%' or j == '63/63':\n",
    "            FEV.drop(i, inplace = True)\n",
    "        \n",
    "        elif '%' in j:\n",
    "            j = j.replace('%', '').replace(',','.')\n",
    "            FEV.at[i, 'Værdi'] = float(j) / 100\n",
    "\n",
    "        elif ',' in j:\n",
    "            j = j.replace(',','.')\n",
    "            FEV.at[i, 'Værdi'] = float(j)        \n",
    "    else:\n",
    "        FEV.at[i, 'Værdi'] = float(j)\n",
    "\n",
    "for i in FEV.index:\n",
    "    j = FEV['Værdi'].loc[i]\n",
    "\n",
    "    if float(j) > 1000:\n",
    "        FEV.at[i, 'Værdi'] = float(j) / 100"
   ]
  },
  {
   "cell_type": "code",
   "execution_count": null,
   "metadata": {},
   "outputs": [],
   "source": [
    "obstruction_filter = []\n",
    "for procent in FEV['Værdi'].index:\n",
    "    if float(FEV['Værdi'].loc[procent]) >= 70:\n",
    "        obstruction_filter.append(False)\n",
    "    else:\n",
    "        obstruction_filter.append(True)"
   ]
  },
  {
   "cell_type": "code",
   "execution_count": null,
   "metadata": {},
   "outputs": [],
   "source": [
    "death_year = death_year.merge(FEV['Værdi'], how='left', left_index=True, right_index=True)"
   ]
  },
  {
   "cell_type": "code",
   "execution_count": null,
   "metadata": {},
   "outputs": [],
   "source": [
    "death_year = death_year.rename(columns={'Genital or urine related diseases':'Genital or urine related diseases'})\n",
    "death_year = death_year.rename(columns={'Værdi':'Lung obstruction'})\n"
   ]
  },
  {
   "cell_type": "code",
   "execution_count": null,
   "metadata": {},
   "outputs": [],
   "source": [
    "type1_dia_filter = []\n",
    "for d in problem['Diagnose SKS']:\n",
    "    if 'DE10' in str(d):\n",
    "        type1_dia_filter.append(True)\n",
    "    else:\n",
    "        type1_dia_filter.append(False)\n",
    "\n",
    "type2_dia_filter = []\n",
    "for d in problem['Diagnose SKS']:\n",
    "    if 'DE11' in str(d):\n",
    "        type2_dia_filter.append(True)\n",
    "    else:\n",
    "        type2_dia_filter.append(False)"
   ]
  },
  {
   "cell_type": "code",
   "execution_count": null,
   "metadata": {},
   "outputs": [],
   "source": [
    "type1_dia = [idx in problem[type1_dia_filter].index.unique() for idx in death_year.index]\n",
    "type2_dia = [idx in problem[type2_dia_filter].index.unique() for idx in death_year.index]\n"
   ]
  },
  {
   "cell_type": "code",
   "execution_count": null,
   "metadata": {},
   "outputs": [],
   "source": [
    "disease_filter = []\n",
    "for d in problem['Diagnose SKS']:\n",
    "    if 'DE' in str(d) and 'DE10' not in str(d) and 'DE11' not in str(d):\n",
    "        disease_filter.append(True)\n",
    "    else:\n",
    "        disease_filter.append(False)\n"
   ]
  },
  {
   "cell_type": "code",
   "execution_count": null,
   "metadata": {},
   "outputs": [],
   "source": [
    "disease = [idx in problem[disease_filter].index.unique() for idx in death_year.index]"
   ]
  },
  {
   "cell_type": "code",
   "execution_count": null,
   "metadata": {},
   "outputs": [],
   "source": [
    "death_year.insert(5, 'Type 1 Diabetes', type1_dia)\n",
    "death_year.insert(6, 'Type 2 Diabetes', type2_dia)"
   ]
  },
  {
   "cell_type": "code",
   "execution_count": null,
   "metadata": {},
   "outputs": [],
   "source": [
    "death_year.insert(7, 'Other metabolic diseases', disease)"
   ]
  },
  {
   "cell_type": "code",
   "execution_count": null,
   "metadata": {},
   "outputs": [],
   "source": [
    "genital_urine_fil = []\n",
    "for d in problem['Diagnose SKS']:\n",
    "    if 'DN' in str(d):\n",
    "        genital_urine_fil.append(True)\n",
    "    else:\n",
    "        genital_urine_fil.append(False)\n",
    "\n",
    "genital_urine = [idx in problem[genital_urine_fil].index.unique() for idx in death_year.index]\n",
    "\n"
   ]
  },
  {
   "cell_type": "code",
   "execution_count": null,
   "metadata": {},
   "outputs": [],
   "source": [
    "death_year.insert(8, 'Geietal or urine related diseases', genital_urine)"
   ]
  },
  {
   "cell_type": "code",
   "execution_count": null,
   "metadata": {},
   "outputs": [],
   "source": [
    "death_year.rename(columns={'Geietal or urine related diseases':'Genital or urine related diseases'}, inplace=True)"
   ]
  },
  {
   "cell_type": "code",
   "execution_count": null,
   "metadata": {},
   "outputs": [],
   "source": [
    "population.merge(anaestesi, how='right', left_index=True, right_index=True)"
   ]
  },
  {
   "cell_type": "code",
   "execution_count": null,
   "metadata": {},
   "outputs": [],
   "source": [
    "population['Operation'] = population['Operation SKS kode'].apply(lambda x: x[:3])"
   ]
  },
  {
   "cell_type": "code",
   "execution_count": null,
   "metadata": {},
   "outputs": [],
   "source": [
    "import matplotlib.pyplot as plt"
   ]
  },
  {
   "cell_type": "code",
   "execution_count": null,
   "metadata": {},
   "outputs": [],
   "source": [
    "death_year.to_csv('death_year')"
   ]
  },
  {
   "cell_type": "code",
   "execution_count": null,
   "metadata": {},
   "outputs": [],
   "source": [
    "KFN = []\n",
    "KFX = []\n",
    "KFK = []\n",
    "KFM = []\n",
    "KFF = []\n",
    "KFP = []\n",
    "KFC = []\n",
    "KFW = []\n",
    "KFJ = []\n",
    "\n",
    "for d in population['Operation']:\n",
    "    if str(d) == 'KFN':\n",
    "        KFN.append(True)\n",
    "        KFX.append(False)\n",
    "        KFK.append(False)\n",
    "        KFM.append(False)\n",
    "        KFF.append(False)\n",
    "        KFP.append(False)\n",
    "        KFC.append(False)\n",
    "        KFW.append(False)\n",
    "        KFJ.append(False)\n",
    "    elif str(d) == 'KFX':\n",
    "        KFN.append(False)\n",
    "        KFX.append(True)\n",
    "        KFK.append(False)\n",
    "        KFM.append(False)\n",
    "        KFF.append(False)\n",
    "        KFP.append(False)\n",
    "        KFC.append(False)\n",
    "        KFW.append(False)\n",
    "        KFJ.append(False)\n",
    "    elif str(d) == 'KFK':\n",
    "        KFN.append(False)\n",
    "        KFX.append(False)\n",
    "        KFK.append(True)\n",
    "        KFM.append(False)\n",
    "        KFF.append(False)\n",
    "        KFP.append(False)\n",
    "        KFC.append(False)\n",
    "        KFW.append(False)\n",
    "        KFJ.append(False)\n",
    "    elif str(d) == 'KFM':\n",
    "        KFN.append(False)\n",
    "        KFX.append(False)\n",
    "        KFK.append(False)\n",
    "        KFM.append(True)\n",
    "        KFF.append(False)\n",
    "        KFP.append(False)\n",
    "        KFC.append(False)\n",
    "        KFW.append(False)\n",
    "        KFJ.append(False)\n",
    "    elif str(d) == 'KFF':\n",
    "        KFN.append(False)\n",
    "        KFX.append(False)\n",
    "        KFK.append(False)\n",
    "        KFM.append(False)\n",
    "        KFF.append(True)\n",
    "        KFP.append(False)\n",
    "        KFC.append(False)\n",
    "        KFW.append(False)\n",
    "        KFJ.append(False)\n",
    "    elif str(d) == 'KFP':\n",
    "        KFN.append(False)\n",
    "        KFX.append(False)\n",
    "        KFK.append(False)\n",
    "        KFM.append(False)\n",
    "        KFF.append(False)\n",
    "        KFP.append(True)\n",
    "        KFC.append(False)\n",
    "        KFW.append(False)\n",
    "        KFJ.append(False)\n",
    "    elif str(d) == 'KFC':\n",
    "        KFN.append(False)\n",
    "        KFX.append(False)\n",
    "        KFK.append(False)\n",
    "        KFM.append(False)\n",
    "        KFF.append(False)\n",
    "        KFP.append(False)\n",
    "        KFC.append(True)\n",
    "        KFW.append(False)\n",
    "        KFJ.append(False)\n",
    "    elif str(d) == 'KFW':\n",
    "        KFN.append(False)\n",
    "        KFX.append(False)\n",
    "        KFK.append(False)\n",
    "        KFM.append(False)\n",
    "        KFF.append(False)\n",
    "        KFP.append(False)\n",
    "        KFC.append(False)\n",
    "        KFW.append(True)\n",
    "        KFJ.append(False)\n",
    "    elif str(d) == 'KFJ':\n",
    "        KFN.append(False)\n",
    "        KFX.append(False)\n",
    "        KFK.append(False)\n",
    "        KFM.append(False)\n",
    "        KFF.append(False)\n",
    "        KFP.append(False)\n",
    "        KFC.append(False)\n",
    "        KFW.append(False)\n",
    "        KFJ.append(True)\n",
    "    else:\n",
    "        KFN.append(False)\n",
    "        KFX.append(False)\n",
    "        KFK.append(False)\n",
    "        KFM.append(False)\n",
    "        KFF.append(False)\n",
    "        KFP.append(False)\n",
    "        KFC.append(False)\n",
    "        KFW.append(False)\n",
    "        KFJ.append(False)"
   ]
  },
  {
   "cell_type": "code",
   "execution_count": null,
   "metadata": {},
   "outputs": [],
   "source": [
    "KFN_ = [idx in population[KFN].index.unique() for idx in death_year.index]\n",
    "KFX_ = [idx in population[KFX].index.unique() for idx in death_year.index]\n",
    "KFK_ = [idx in population[KFK].index.unique() for idx in death_year.index]\n",
    "KFM_ = [idx in population[KFM].index.unique() for idx in death_year.index]\n",
    "KFF_ = [idx in population[KFF].index.unique() for idx in death_year.index]\n",
    "KFP_ = [idx in population[KFP].index.unique() for idx in death_year.index]\n",
    "KFC_ = [idx in population[KFC].index.unique() for idx in death_year.index]\n",
    "KFW_ = [idx in population[KFW].index.unique() for idx in death_year.index]\n",
    "KFJ_ = [idx in population[KFJ].index.unique() for idx in death_year.index]\n"
   ]
  },
  {
   "cell_type": "code",
   "execution_count": null,
   "metadata": {},
   "outputs": [],
   "source": [
    "death_year.insert(10, 'KFN', KFN_)"
   ]
  },
  {
   "cell_type": "code",
   "execution_count": null,
   "metadata": {},
   "outputs": [],
   "source": [
    "death_year.insert(11, 'KFX', KFX_)\n",
    "death_year.insert(12, 'KFK', KFK_)\n",
    "death_year.insert(13, 'KFM', KFM_)\n",
    "death_year.insert(14, 'KFF', KFF_)\n",
    "death_year.insert(15, 'KFP', KFP_)\n",
    "death_year.insert(16, 'KFC', KFC_)\n",
    "death_year.insert(17, 'KFW', KFW_)\n",
    "death_year.insert(18, 'KFJ', KFJ_)"
   ]
  },
  {
   "cell_type": "code",
   "execution_count": null,
   "metadata": {},
   "outputs": [],
   "source": [
    "disease_filter = []\n",
    "for d in problem['Diagnose SKS']:\n",
    "    if 'DE' in str(d) and 'DE10' not in str(d) and 'DE11' not in str(d):\n",
    "        disease_filter.append(True)\n",
    "    else:\n",
    "        disease_filter.append(False)\n"
   ]
  },
  {
   "cell_type": "code",
   "execution_count": null,
   "metadata": {},
   "outputs": [],
   "source": [
    "other_op = []\n",
    "for d in population['Operation']:\n",
    "    if str(d) == 'KFH' or str(d)=='KFG' or str(d)=='KFE' or str(d)=='KFB' or str(d)=='KFQ' or str(d)=='KFD' or str(d)=='KFL' or str(d)=='KFA':\n",
    "        other_op.append(True)\n",
    "    else:\n",
    "        other_op.append(False)\n"
   ]
  },
  {
   "cell_type": "code",
   "execution_count": null,
   "metadata": {},
   "outputs": [],
   "source": [
    "other = [idx in population[other_op].index.unique() for idx in death_year.index]"
   ]
  },
  {
   "cell_type": "code",
   "execution_count": null,
   "metadata": {},
   "outputs": [],
   "source": [
    "death_year.insert(8, 'Other operation', other)"
   ]
  },
  {
   "cell_type": "code",
   "execution_count": null,
   "metadata": {},
   "outputs": [],
   "source": [
    "age = population[bool]['Alder på operationstidspunkt'].groupby(level=0, sort=False).apply(lambda x: x.drop_duplicates(keep ='first'))\n",
    "plc= age.reset_index(0)\n",
    "plc.index = plc.index.rename('asdf')\n",
    "plc = plc.reset_index(0)\n",
    "plc = plc.drop(columns=['asdf'])\n",
    "plc.index = plc['IDno']\n",
    "age = plc.drop(columns='IDno')\n",
    "age"
   ]
  },
  {
   "cell_type": "markdown",
   "metadata": {},
   "source": [
    "# Lab svar inkorporation\n",
    "\n",
    "EGFR/1 (som er patientens nyefunktion), som er kreatanin men justeret for\n",
    "\n",
    "Hæmoglobin (fokus fordi hvis tallet er for lavet = det er for farligt at lave operaiton)\n",
    "\n",
    "Plastman glykose (også fokus = tegn på pre sukkersyge)\n",
    "\n",
    "Ecosytter (også fokus = tegn på inflamation)\n",
    "\n",
    "Tromposytter (ned prioriteteres = patienten har måske en kronisk påvirkning)\n",
    "\n",
    "Troponin  (måske forkastes, fordi den har samme formål som Kreatinkrenase MB;P)\n",
    "\n",
    "Kreatinkrenase MB;P (fokus = mistænkning om blodprop i hjertet jo højere jo værre)"
   ]
  },
  {
   "cell_type": "markdown",
   "metadata": {},
   "source": [
    "**EFGR nyre**\n"
   ]
  },
  {
   "cell_type": "code",
   "execution_count": null,
   "metadata": {},
   "outputs": [],
   "source": [
    "lab = pd.read_csv('Lab svar.csv', index_col='IDno')"
   ]
  },
  {
   "cell_type": "code",
   "execution_count": null,
   "metadata": {},
   "outputs": [],
   "source": [
    "lab['V3'] = lab['V3'].apply(lambda x: datetime.strptime(x.rstrip('Z'), '%Y-%m-%dT%H:%M:%S'))"
   ]
  },
  {
   "cell_type": "code",
   "execution_count": null,
   "metadata": {},
   "outputs": [],
   "source": [
    "lab = lab[lab.index.isin(death_year.index)]"
   ]
  },
  {
   "cell_type": "code",
   "execution_count": null,
   "metadata": {},
   "outputs": [],
   "source": [
    "lab.rename(columns={'V3':'Time'}, inplace=True)\n",
    "lab.rename(columns={'V2':'Type'}, inplace=True)\n",
    "lab.rename(columns={'V4':'Value'}, inplace=True)"
   ]
  },
  {
   "cell_type": "code",
   "execution_count": null,
   "metadata": {},
   "outputs": [],
   "source": [
    "lab_anae = lab.merge(anaestesi, left_index=True, right_index=True)"
   ]
  },
  {
   "cell_type": "code",
   "execution_count": null,
   "metadata": {},
   "outputs": [],
   "source": [
    "lab_anae = lab_anae[lab_anae['Hændelse'] == 'Induktion']"
   ]
  },
  {
   "cell_type": "code",
   "execution_count": null,
   "metadata": {},
   "outputs": [],
   "source": [
    "X = lab_anae[lab_anae['Time'] < lab_anae['Hændelsestidspunkt']]"
   ]
  },
  {
   "cell_type": "code",
   "execution_count": null,
   "metadata": {},
   "outputs": [],
   "source": [
    "EFGR_nyre = X[X['Type'] == 'EGFR/1,73M²(CKD-EPI);NYRE']\n",
    "EFGR_nyre = EFGR_nyre.rename(columns={'Unit':'Value'})"
   ]
  },
  {
   "cell_type": "code",
   "execution_count": null,
   "metadata": {},
   "outputs": [],
   "source": [
    "EFGR_nyre['Value'] = pd.to_numeric(EFGR_nyre['Value'], errors='coerce')"
   ]
  },
  {
   "cell_type": "code",
   "execution_count": null,
   "metadata": {},
   "outputs": [],
   "source": [
    "EFGR_nyre = EFGR_nyre.dropna(subset=['Value'])"
   ]
  },
  {
   "cell_type": "code",
   "execution_count": null,
   "metadata": {},
   "outputs": [],
   "source": [
    "avg_EFGR = EFGR_nyre.groupby(level=0, sort=False).apply(lambda x: x['Value'].mean())\n",
    "death_year.insert(9, 'Nyrefunktion', avg_EFGR)"
   ]
  },
  {
   "cell_type": "markdown",
   "metadata": {},
   "source": [
    "**Hæmoglobin**"
   ]
  },
  {
   "cell_type": "code",
   "execution_count": null,
   "metadata": {},
   "outputs": [],
   "source": [
    "haemo = X[X['Type'] == 'HÆMOGLOBIN;B']\n",
    "haemo['Value'] = pd.to_numeric(haemo['Value'], errors='coerce')\n",
    "haemo = haemo.dropna(subset=['Value'])\n",
    "haemo = haemo.groupby(level=0, sort=False).apply(lambda x: x['Value'].mean())\n",
    "death_year = death_year.assign(Hæmoglobin = haemo)"
   ]
  },
  {
   "cell_type": "markdown",
   "metadata": {},
   "source": [
    " **Plasma Glukose**"
   ]
  },
  {
   "cell_type": "code",
   "execution_count": null,
   "metadata": {},
   "outputs": [],
   "source": [
    "import matplotlib.pyplot as plt"
   ]
  },
  {
   "cell_type": "code",
   "execution_count": null,
   "metadata": {},
   "outputs": [],
   "source": [
    "gluk = X[X['Type'] == 'GLUKOSE;P']\n",
    "gluk['Value'] = pd.to_numeric(gluk['Value'], errors='coerce')\n",
    "gluk = gluk.dropna(subset=['Value'])\n",
    "gluk = gluk.groupby(level=0, sort=False).apply(lambda x: x['Value'].mean())\n",
    "death_year = death_year.assign(Glucose = gluk)"
   ]
  },
  {
   "cell_type": "markdown",
   "metadata": {},
   "source": [
    "**Kreatinkinase og kreatinekinase MB**"
   ]
  },
  {
   "cell_type": "code",
   "execution_count": null,
   "metadata": {},
   "outputs": [],
   "source": [
    "kkmb = X[X['Type'] == 'KREATINKINASE MB;P']\n",
    "kkmb['Value'] = pd.to_numeric(kkmb['Value'], errors='coerce')\n",
    "kkmb = kkmb.dropna(subset=['Value'])\n",
    "kkmb = kkmb.groupby(level=0, sort=False).apply(lambda x: x['Value'].mean())\n",
    "death_year.insert(11, 'Kreatinkinase MB', kkmb)"
   ]
  },
  {
   "cell_type": "markdown",
   "metadata": {},
   "source": [
    "**Leukocytter**"
   ]
  },
  {
   "cell_type": "code",
   "execution_count": null,
   "metadata": {},
   "outputs": [],
   "source": [
    "leuk = X[X['Type'] == 'LEUKOCYTTER;B']['Value']\n",
    "leuk = pd.to_numeric(leuk, errors='coerce')\n",
    "leuk = leuk.dropna()\n",
    "leuk = leuk.groupby(level=0, sort=False).apply(lambda x: x.mean())\n",
    "death_year = death_year.assign(Leukocytter = leuk)"
   ]
  },
  {
   "cell_type": "markdown",
   "metadata": {},
   "source": [
    "**Tromposytter**"
   ]
  },
  {
   "cell_type": "code",
   "execution_count": null,
   "metadata": {},
   "outputs": [],
   "source": [
    "trom = X[X['Type'] == 'TROMBOCYTTER;B']['Value']\n",
    "trom = pd.to_numeric(trom, errors='coerce')\n",
    "trom = trom.dropna()\n",
    "trom = trom.groupby(level=0, sort=False).apply(lambda x: x.mean())\n",
    "death_year = death_year.assign(Trombocytter = trom)"
   ]
  },
  {
   "cell_type": "markdown",
   "metadata": {},
   "source": [
    "# EKG"
   ]
  },
  {
   "cell_type": "code",
   "execution_count": null,
   "metadata": {},
   "outputs": [],
   "source": [
    "ekg = pd.read_csv('EKG-data.csv', index_col='IDno')"
   ]
  },
  {
   "cell_type": "code",
   "execution_count": null,
   "metadata": {},
   "outputs": [],
   "source": [
    "ekg['Tidspunkt'] = ekg['Tidspunkt'].apply(lambda x: datetime.strptime(x.rstrip('Z'), '%Y-%m-%dT%H:%M:%S'))"
   ]
  },
  {
   "cell_type": "code",
   "execution_count": null,
   "metadata": {},
   "outputs": [],
   "source": [
    "ekg_anae = ekg.merge(anaestesi, left_index=True, right_index=True)\n",
    "ekg_anae = ekg_anae[ekg_anae['Hændelse'] == 'Induktion']\n",
    "ekg_anae = ekg_anae[ekg_anae['Tidspunkt'] < ekg_anae['Hændelsestidspunkt']]"
   ]
  },
  {
   "cell_type": "code",
   "execution_count": null,
   "metadata": {},
   "outputs": [],
   "source": [
    "ekg_anae"
   ]
  },
  {
   "cell_type": "code",
   "execution_count": null,
   "metadata": {},
   "outputs": [],
   "source": [
    "qtc_b = ekg_anae[ekg_anae['Navn'] == 'QTc (Bassett’s formel)']['Værdi']\n",
    "qtc_b = pd.to_numeric(qtc, errors='coerce')\n",
    "qtc_b = qtc_b.dropna()\n",
    "qtc_b = qtc_b.groupby(level=0, sort=False).apply(lambda x: x.mean())\n",
    "death_year.insert(13, 'QTc', qtc_b)"
   ]
  },
  {
   "cell_type": "markdown",
   "metadata": {},
   "source": [
    "# KAG"
   ]
  },
  {
   "cell_type": "code",
   "execution_count": null,
   "metadata": {},
   "outputs": [],
   "source": [
    "kag = pd.read_csv('KAG data.csv', sep=';', index_col='IDno')"
   ]
  },
  {
   "cell_type": "code",
   "execution_count": null,
   "metadata": {},
   "outputs": [],
   "source": [
    "#Now i want to find the induction and the stop data collection for each patient that are closest to each other, also i want to only include patients who have aorta tang af and aorta tang på and aorta tang af\n",
    "#I will do this by first filtering out all the inductions and then filtering out all the stop data collections\n",
    "#Then I will filter out the ones that are closest to each other\n",
    "#Then I will filter out the ones that have aorta tang af and aorta tang på and aorta tang af\n",
    "anae = pd.read_csv('Anæstesidata.csv', index_col='IDno')\n",
    "X = anae.groupby(level=0).filter(lambda x: (x['Hændelse'] == 'Induktion').any())\n",
    "X = anae.groupby(level=0).filter(lambda x: (x['Hændelse'] == 'Stop Data Indsamling').any())\n",
    "X = anae.groupby(level=0).filter(lambda x: (x['Hændelse'] == 'Aorta tang på').any())\n",
    "X = anae.groupby(level=0).filter(lambda x: (x['Hændelse'] == 'Aorta tang af').any())\n"
   ]
  },
  {
   "cell_type": "code",
   "execution_count": null,
   "metadata": {},
   "outputs": [],
   "source": [
    "#I will now eliminate duplicate inductions and stop data collections\n",
    "a = X.groupby(level=0, sort=False)['Hændelse'].apply(lambda x: x.duplicated(keep='first'))\n",
    "b = X.groupby(level=0, sort=False)['Hændelse'].apply(lambda x: x == 'Induktion')\n",
    "mask_ind = a & b\n",
    "mask_ind = [not b for b in mask_ind]\n",
    "X_ = X[mask_ind]\n",
    "c = X_.groupby(level=0, sort=False)['Hændelse'].apply(lambda x: x.duplicated(keep='first'))\n",
    "d = X_.groupby(level=0, sort=False)['Hændelse'].apply(lambda x: x == 'Stop Data Indsamling')\n",
    "mask_stop = c&d\n",
    "mask_stop = [not b for b in mask_stop]\n",
    "X_ = X_[mask_stop]\n",
    "X = X_"
   ]
  },
  {
   "cell_type": "code",
   "execution_count": null,
   "metadata": {},
   "outputs": [],
   "source": [
    "#I will now make sure nothing can come after stop data collection\n",
    "X = X.groupby(level=0).filter(lambda x: (x['Hændelse'] == 'Induktion').any())\n",
    "X = X.groupby(level=0).filter(lambda x: (x['Hændelse'] == 'Stop Data Indsamling').any())\n",
    "X_ = X.groupby(level=0, sort= False).apply(lambda x: x['Hændelsestidspunkt'] <= x[x['Hændelse'] == 'Stop Data Indsamling']['Hændelsestidspunkt'][0])\n"
   ]
  },
  {
   "cell_type": "code",
   "execution_count": null,
   "metadata": {},
   "outputs": [],
   "source": [
    "X_ = X_.reset_index(level = 0)\n",
    "X_ = X_['Hændelsestidspunkt']"
   ]
  },
  {
   "cell_type": "code",
   "execution_count": null,
   "metadata": {},
   "outputs": [],
   "source": [
    "X = X[X_]\n"
   ]
  },
  {
   "cell_type": "code",
   "execution_count": null,
   "metadata": {},
   "outputs": [],
   "source": [
    "X = X.groupby(level=0).filter(lambda x: (x['Hændelse'] == 'Aorta tang på').any())\n",
    "X = X.groupby(level=0).filter(lambda x: (x['Hændelse'] == 'Aorta tang af').any())\n"
   ]
  },
  {
   "cell_type": "code",
   "execution_count": null,
   "metadata": {},
   "outputs": [],
   "source": [
    "death_year = death_year.dropna()"
   ]
  },
  {
   "cell_type": "markdown",
   "metadata": {},
   "source": [
    "# death_year retouch (KØRES EFTER death_year bliver læst øverst oppe)\n",
    "\n",
    "KØR BEGGE CELLER for har ikke gemt endnu"
   ]
  },
  {
   "cell_type": "code",
   "execution_count": null,
   "metadata": {},
   "outputs": [],
   "source": [
    "death_year = pd.read_csv(\"L:/LovbeskyttetMapper01/HjertekirurgiDTU/Gruppe_1_DLMV/death_year\", index_col='IDno')"
   ]
  },
  {
   "cell_type": "code",
   "execution_count": null,
   "metadata": {},
   "outputs": [],
   "source": [
    "death_year = death_year.drop(columns='Højde')"
   ]
  },
  {
   "cell_type": "markdown",
   "metadata": {},
   "source": [
    "Make all NaN to False and values under 70 to False, else True"
   ]
  },
  {
   "cell_type": "code",
   "execution_count": null,
   "metadata": {},
   "outputs": [],
   "source": [
    "lung_ob = death_year['Lung obstruction']\n",
    "\n",
    "death_year['Lung obstruction'] = lung_ob.apply(lambda x: False if x < 70 else True)\n",
    "death_year.dropna()"
   ]
  },
  {
   "cell_type": "markdown",
   "metadata": {},
   "source": [
    "# Standardizing datasættet"
   ]
  },
  {
   "cell_type": "code",
   "execution_count": null,
   "metadata": {},
   "outputs": [],
   "source": [
    "from sklearn.preprocessing import StandardScaler\n",
    "\n",
    "def standardize_scale(df, scale_cols):\n",
    "    scaler = StandardScaler()\n",
    "    for col in scale_cols:\n",
    "        df[col] = scaler.fit_transform(df[col].values.reshape(-1, 1))\n",
    "    return df"
   ]
  },
  {
   "cell_type": "code",
   "execution_count": null,
   "metadata": {},
   "outputs": [],
   "source": [
    "scales = ['age', 'Vægt']\n",
    "standardize_scale(death_year, scale_cols=scales)"
   ]
  },
  {
   "cell_type": "code",
   "execution_count": null,
   "metadata": {},
   "outputs": [],
   "source": [
    "death_year = death_year.replace(True, 1).replace(False, 0)\n"
   ]
  },
  {
   "cell_type": "markdown",
   "metadata": {},
   "source": [
    "# Perieoperative dataset"
   ]
  },
  {
   "cell_type": "code",
   "execution_count": null,
   "metadata": {},
   "outputs": [],
   "source": [
    "perie_op = death_year.copy()"
   ]
  },
  {
   "cell_type": "code",
   "execution_count": null,
   "metadata": {},
   "outputs": [],
   "source": [
    "lab = pd.read_csv('Lab svar.csv', index_col='IDno')\n"
   ]
  },
  {
   "cell_type": "code",
   "execution_count": null,
   "metadata": {},
   "outputs": [],
   "source": [
    "c = [idx in death_year.index for idx in lab.index]"
   ]
  },
  {
   "cell_type": "code",
   "execution_count": null,
   "metadata": {},
   "outputs": [],
   "source": [
    "lab_anae = lab.merge(anaestesi, left_index=True, right_index=True)\n",
    "lab_anae = lab_anae[(lab_anae['Hændelse'] == 'Induktion') |( lab_anae['Hændelse'] == 'Stop Data Indsamling')]"
   ]
  },
  {
   "cell_type": "code",
   "execution_count": null,
   "metadata": {},
   "outputs": [],
   "source": [
    "lab_anae = lab_anae.drop(columns = ['Hændelse', 'Hændelsestidspunkt'])\n"
   ]
  },
  {
   "cell_type": "code",
   "execution_count": null,
   "metadata": {},
   "outputs": [],
   "source": [
    "lab_anae = lab_anae.drop_duplicates(keep = 'first')"
   ]
  },
  {
   "cell_type": "code",
   "execution_count": null,
   "metadata": {},
   "outputs": [],
   "source": [
    "lab_anae['V3'] = lab_anae['V3'].apply(lambda x: datetime.strptime(x.rstrip('Z'), '%Y-%m-%dT%H:%M:%S'))"
   ]
  },
  {
   "cell_type": "code",
   "execution_count": null,
   "metadata": {},
   "outputs": [],
   "source": [
    "startstop = {}\n",
    "for idx in anaestesi.index.unique():\n",
    "    start = anaestesi['Hændelsestidspunkt'][anaestesi['Hændelse'] == 'Induktion'].loc[idx]\n",
    "    stop = anaestesi['Hændelsestidspunkt'][anaestesi['Hændelse'] == 'Stop Data Indsamling'].loc[idx]\n",
    "    startstop[idx] = (start, stop)"
   ]
  },
  {
   "cell_type": "code",
   "execution_count": null,
   "metadata": {},
   "outputs": [],
   "source": [
    "mask = lab_anae.groupby(level = 0, sort=False).apply(lambda x: (startstop[x.index[0]][1] > x['V3']) & (x['V3'] > startstop[x.index[0]][0]))"
   ]
  },
  {
   "cell_type": "code",
   "execution_count": null,
   "metadata": {},
   "outputs": [],
   "source": [
    "perie_lab = lab_anae[mask.values]"
   ]
  },
  {
   "cell_type": "code",
   "execution_count": null,
   "metadata": {},
   "outputs": [],
   "source": [
    "glukose_perie = perie_lab[perie_lab['V2'] == 'TROMBOCYTTER;B']"
   ]
  },
  {
   "cell_type": "code",
   "execution_count": null,
   "metadata": {},
   "outputs": [],
   "source": [
    "perie_lab.groupby(level=0, sort=False).apply(lambda x: x['V3'].mean())"
   ]
  },
  {
   "cell_type": "code",
   "execution_count": null,
   "metadata": {},
   "outputs": [],
   "source": [
    "ekg_anae = ekg.merge(anaestesi, left_index=True, right_index=True).drop(columns=['Hændelse', 'Hændelsestidspunkt'])\n",
    "mask = ekg_anae.groupby(level = 0, sort=False).apply(lambda x: (startstop[x.index[0]][1] > x['Tidspunkt']) & (x['Tidspunkt'] > startstop[x.index[0]][0]))"
   ]
  },
  {
   "cell_type": "code",
   "execution_count": null,
   "metadata": {},
   "outputs": [],
   "source": [
    "dia_anae = dialyse.merge(anaestesi, left_index=True, right_index=True).drop(columns=['Hændelse', 'Hændelsestidspunkt'])\n",
    "mask = dia_anae.groupby(level = 0, sort=False).apply(lambda x: (startstop[x.index[0]][1] > x['Målingsdatotid']) & (x['Målingsdatotid'] > startstop[x.index[0]][0]))\n",
    "                                                    "
   ]
  },
  {
   "cell_type": "code",
   "execution_count": null,
   "metadata": {},
   "outputs": [],
   "source": [
    "urin = pd.read_csv('Urin.csv', index_col='IDno')"
   ]
  },
  {
   "cell_type": "code",
   "execution_count": null,
   "metadata": {},
   "outputs": [],
   "source": [
    "urin = urin.merge(anaestesi, left_index=True, right_index=True).drop(columns=['Hændelse', 'Hændelsestidspunkt'])\n",
    "urin['dato'] = urin['dato'].apply(lambda x: datetime.strptime(x.rstrip('Z'), '%Y-%m-%dT%H:%M:%S'))"
   ]
  },
  {
   "cell_type": "code",
   "execution_count": null,
   "metadata": {},
   "outputs": [],
   "source": [
    "mask = urin.groupby(level = 0, sort=False).apply(lambda x: (startstop[x.index[0]][1] > x['dato']) & (x['dato'] > startstop[x.index[0]][0]))"
   ]
  },
  {
   "cell_type": "code",
   "execution_count": null,
   "metadata": {},
   "outputs": [],
   "source": [
    "urin = urin[mask.values]"
   ]
  },
  {
   "cell_type": "code",
   "execution_count": null,
   "metadata": {},
   "outputs": [],
   "source": [
    "urin = urin.drop_duplicates(subset='dato')"
   ]
  },
  {
   "cell_type": "code",
   "execution_count": null,
   "metadata": {},
   "outputs": [],
   "source": [
    "urin_tot = urin.groupby(level = 0, sort=False).apply(lambda x: x['Urin (ml)'].sum()).to_frame()"
   ]
  },
  {
   "cell_type": "code",
   "execution_count": null,
   "metadata": {},
   "outputs": [],
   "source": [
    "urin_tot.columns = ['Total urin ml (perioperativ)']\n"
   ]
  },
  {
   "cell_type": "code",
   "execution_count": null,
   "metadata": {},
   "outputs": [],
   "source": [
    "perie_op = perie_op.merge(urin_tot, left_index=True, right_index=True)"
   ]
  },
  {
   "cell_type": "code",
   "execution_count": null,
   "metadata": {},
   "outputs": [],
   "source": [
    "blood = pd.read_csv('Blødning.csv', index_col='IDno')\n",
    "blood['dato'] = blood['dato'].apply(lambda x: datetime.strptime(x.rstrip('Z'), '%Y-%m-%dT%H:%M:%S'))\n",
    "blood = blood.merge(anaestesi, left_index=True, right_index=True).drop(columns=['Hændelse', 'Hændelsestidspunkt'])\n",
    "mask = blood.groupby(level = 0, sort=False).apply(lambda x: (startstop[x.index[0]][1] > x['dato']) & (x['dato'] > startstop[x.index[0]][0]))"
   ]
  },
  {
   "cell_type": "code",
   "execution_count": null,
   "metadata": {},
   "outputs": [],
   "source": [
    "blood = blood.drop_duplicates(subset='dato' ,keep='first')"
   ]
  },
  {
   "cell_type": "code",
   "execution_count": null,
   "metadata": {},
   "outputs": [],
   "source": [
    "blood_perie  = blood.groupby(level=0, sort=False).apply(lambda x: x['Blødning ml'].sum())\n",
    "blood_perie = blood_perie.to_frame()\n",
    "blood_perie.columns = ['Total blødning ml (perioperativ)']\n",
    "perie_op = perie_op.merge(blood_perie, left_index=True, right_index=True)"
   ]
  },
  {
   "cell_type": "code",
   "execution_count": null,
   "metadata": {},
   "outputs": [],
   "source": [
    "perie_lab[perie_lab['V2'] == 'ECV-BASE EXCESS;(POC)'].index.unique()"
   ]
  },
  {
   "cell_type": "code",
   "execution_count": null,
   "metadata": {},
   "outputs": [],
   "source": [
    "cirk = pd.read_csv('cirk. vitale værdier.csv', index_col='IDno', on_bad_lines = 'skip', sep=';')\n",
    "cirk = cirk.merge(anaestesi, left_index=True, right_index=True).drop(columns=['Hændelse', 'Hændelsestidspunkt'])"
   ]
  },
  {
   "cell_type": "code",
   "execution_count": null,
   "metadata": {},
   "outputs": [],
   "source": [
    "cirk['Målingsdatotid'] = cirk['Målingsdatotid'].apply(lambda x: datetime.strptime(x.rstrip('Z'), '%Y-%m-%dT%H:%M:%S'))"
   ]
  },
  {
   "cell_type": "code",
   "execution_count": null,
   "metadata": {},
   "outputs": [],
   "source": [
    "mask = cirk.groupby(level = 0, sort=False).apply(lambda x: (startstop[x.index[0]][1] > x['Målingsdatotid']) & (x['Målingsdatotid'] > startstop[x.index[0]][0]))"
   ]
  },
  {
   "cell_type": "code",
   "execution_count": null,
   "metadata": {},
   "outputs": [],
   "source": [
    "cirk_perie = cirk[mask.values]"
   ]
  },
  {
   "cell_type": "code",
   "execution_count": null,
   "metadata": {},
   "outputs": [],
   "source": [
    "puls_perie_avg = cirk_perie['Puls'].groupby(level=0, sort=False).apply(lambda x: x.mean()).to_frame(name='Puls AVG(perioperativ)')\n",
    "puls_perie_sd = cirk_perie['Puls'].groupby(level=0, sort=False).apply(lambda x: x.std()).to_frame(name='Puls SD (perioperativ)')\n",
    "saturation_perie_avg = cirk_perie['Saturation'].groupby(level=0, sort=False).apply(lambda x: x.mean()).to_frame(name='Saturation AVG(perioperativ)')\n",
    "saturation_perie_sd = cirk_perie['Saturation'].groupby(level=0, sort=False).apply(lambda x: x.std()).to_frame(name='Saturation SD(perioperativ)')\n",
    "perie_op = perie_op.merge(puls_perie_avg, left_index=True, right_index=True)\n",
    "perie_op = perie_op.merge(puls_perie_sd, left_index=True, right_index=True)\n",
    "perie_op = perie_op.merge(saturation_perie_avg, left_index=True, right_index=True)\n",
    "perie_op = perie_op.merge(saturation_perie_sd, left_index=True, right_index=True)\n"
   ]
  },
  {
   "cell_type": "markdown",
   "metadata": {},
   "source": [
    "# Post operative morbidity"
   ]
  },
  {
   "cell_type": "code",
   "execution_count": null,
   "metadata": {},
   "outputs": [],
   "source": [
    "post_op = perie_op.copy()"
   ]
  },
  {
   "cell_type": "code",
   "execution_count": null,
   "metadata": {},
   "outputs": [],
   "source": [
    "mask = lab_anae.groupby(level = 0, sort=False).apply(lambda x: (startstop[x.index[0]][1] < x['V3']))"
   ]
  },
  {
   "cell_type": "code",
   "execution_count": null,
   "metadata": {},
   "outputs": [],
   "source": [
    "post_lab = lab_anae[mask.values]"
   ]
  },
  {
   "cell_type": "code",
   "execution_count": null,
   "metadata": {},
   "outputs": [],
   "source": [
    "post_haemo = post_lab[post_lab['V2']=='HÆMOGLOBIN;B']\n",
    "post_haemo['V4'] = pd.to_numeric(post_haemo['V4'], errors='coerce')\n",
    "post_haemo = post_haemo.dropna(subset=['V4'])"
   ]
  },
  {
   "cell_type": "code",
   "execution_count": null,
   "metadata": {},
   "outputs": [],
   "source": [
    "post_haemo_avg = post_haemo.groupby(level=0).apply(lambda x: x['V4'].mean())\n",
    "post_haemo_avg = post_haemo_avg.to_frame(name='Hæmoglobin AVG (postoperative)')\n",
    "post_haemo_sd = post_haemo.groupby(level=0).apply(lambda x: x['V4'].std())\n",
    "post_haemo_sd = post_haemo_sd.to_frame(name='Hæmoglobin SD (postoperative)')\n",
    "post_op = post_op.merge(post_haemo_avg, left_index=True, right_index=True)\n",
    "post_op = post_op.merge(post_haemo_sd, left_index=True, right_index=True)"
   ]
  },
  {
   "cell_type": "markdown",
   "metadata": {},
   "source": [
    "**Natrium**"
   ]
  },
  {
   "cell_type": "code",
   "execution_count": null,
   "metadata": {},
   "outputs": [],
   "source": [
    "natrium_post = post_lab[post_lab['V2'] == 'NATRIUM;P']\n",
    "natrium_post['V4'] = pd.to_numeric(natrium_post['V4'], errors='coerce')\n",
    "natrium_post = natrium_post.dropna(subset=['V4'])\n",
    "natrium_post_avg = natrium_post.groupby(level=0).apply(lambda x: x['V4'].mean())\n",
    "natrium_post_avg = natrium_post_avg.to_frame(name='Natrium AVG (postoperative)')\n",
    "natrium_post_sd = natrium_post.groupby(level=0).apply(lambda x: x['V4'].std()).to_frame(name='Natrium SD (postoperative)')\n",
    "post_op = post_op.merge(natrium_post_avg, left_index=True, right_index=True)\n",
    "post_op = post_op.merge(natrium_post_sd, left_index=True, right_index=True)\n"
   ]
  },
  {
   "cell_type": "code",
   "execution_count": null,
   "metadata": {},
   "outputs": [],
   "source": [
    "kalium_post = post_lab[post_lab['V2'] == 'KALIUM;P']\n",
    "kalium_post['V4'] = pd.to_numeric(kalium_post['V4'], errors='coerce')\n",
    "kalium_post = kalium_post.dropna(subset=['V4'])\n",
    "kalium_post_avg = kalium_post.groupby(level=0).apply(lambda x: x['V4'].mean())\n",
    "kalium_post_avg = kalium_post_avg.to_frame(name='Kalium AVG (postoperative)')\n",
    "kalium_post_sd = kalium_post.groupby(level=0).apply(lambda x: x['V4'].std()).to_frame(name='Kalium SD (postoperative)')\n",
    "post_op = post_op.merge(kalium_post_avg, left_index=True, right_index=True)\n",
    "post_op = post_op.merge(kalium_post_sd, left_index=True, right_index=True)"
   ]
  },
  {
   "cell_type": "code",
   "execution_count": null,
   "metadata": {},
   "outputs": [],
   "source": [
    "cirk = cirk.merge(anaestesi, left_index=True, right_index=True).drop(columns=['Hændelse', 'Hændelsestidspunkt'])"
   ]
  },
  {
   "cell_type": "code",
   "execution_count": null,
   "metadata": {},
   "outputs": [],
   "source": [
    "cirk_post_mask = cirk.groupby(level = 0, sort=False).apply(lambda x: (startstop[x.index[0]][1] < x['Målingsdatotid']))\n",
    "cirk_post = cirk[cirk_post_mask.values]"
   ]
  },
  {
   "cell_type": "code",
   "execution_count": null,
   "metadata": {},
   "outputs": [],
   "source": [
    "satu_post = cirk_post['Saturation']\n",
    "satu_post = pd.to_numeric(satu_post, errors='coerce')\n",
    "satu_post = satu_post.dropna()\n",
    "satu_post_avg = satu_post.groupby(level=0, sort=False).apply(lambda x: x.mean()).to_frame(name='Saturation AVG (postoperative)')\n",
    "satu_post_sd = satu_post.groupby(level=0, sort=False).apply(lambda x: x.std()).to_frame(name='Saturation SD (postoperative)')\n",
    "puls_post = cirk_post['Puls']\n",
    "puls_post = pd.to_numeric(puls_post, errors='coerce')\n",
    "puls_post = puls_post.dropna()\n",
    "puls_post_avg = puls_post.groupby(level=0, sort=False).apply(lambda x: x.mean()).to_frame(name='Puls AVG (postoperative)')\n",
    "puls_post_sd = puls_post.groupby(level=0, sort=False).apply(lambda x: x.std()).to_frame(name='Puls SD (postoperative)')\n",
    "post_op = post_op.merge(satu_post_avg, left_index=True, right_index=True)\n",
    "post_op = post_op.merge(satu_post_sd, left_index=True, right_index=True)\n",
    "post_op = post_op.merge(puls_post_avg, left_index=True, right_index=True)\n",
    "post_op = post_op.merge(puls_post_sd, left_index=True, right_index=True)\n"
   ]
  },
  {
   "cell_type": "code",
   "execution_count": null,
   "metadata": {},
   "outputs": [],
   "source": [
    "dialyse = dialyse.merge(anaestesi, left_index=True, right_index=True).drop(columns=['Hændelse', 'Hændelsestidspunkt'])"
   ]
  },
  {
   "cell_type": "code",
   "execution_count": null,
   "metadata": {},
   "outputs": [],
   "source": [
    "dialyse_post_mask = dialyse.groupby(level = 0, sort=False).apply(lambda x: (startstop[x.index[0]][1] < x['Målingsdatotid']))\n",
    "dialyse_post = dialyse[dialyse_post_mask.values]"
   ]
  },
  {
   "cell_type": "code",
   "execution_count": null,
   "metadata": {},
   "outputs": [],
   "source": [
    "nyresvigt = list(dialyse_post.index.unique())"
   ]
  },
  {
   "cell_type": "code",
   "execution_count": null,
   "metadata": {},
   "outputs": [],
   "source": [
    "a_bool = []\n",
    "for i in post_op.index:\n",
    "    a_bool.append(i in nyresvigt)\n",
    "sum(a_bool)"
   ]
  },
  {
   "cell_type": "code",
   "execution_count": null,
   "metadata": {},
   "outputs": [],
   "source": [
    "perie_op = perie_op.rename(columns={'Puls AVG(perieoperativ)':'Puls AVG(perioperativ)', 'Puls SD(perieoperative)' : 'Puls SD(perioperative)', 'Saturation SD(perieoperative)' : 'Saturation SD(perioperative)', 'Saturation AVG(perieoperative)' : 'Saturation AVG(perioperative)', 'Total blødning ml (perieoperative)' : 'Total blødning ml (perieoperative)', 'Total urin ml (perieoperative)' : 'Total urin ml (perioperative)'}, inplace=True)"
   ]
  },
  {
   "cell_type": "code",
   "execution_count": null,
   "metadata": {},
   "outputs": [],
   "source": [
    "death_year.to_csv('pre_operative_dataset.csv')\n",
    "post_op.to_csv('post_operative_dataset.csv')\n"
   ]
  },
  {
   "cell_type": "code",
   "execution_count": null,
   "metadata": {},
   "outputs": [],
   "source": [
    "perie_op.to_csv('peri_operative_dataset.csv')"
   ]
  },
  {
   "cell_type": "code",
   "execution_count": null,
   "metadata": {},
   "outputs": [],
   "source": [
    "post_op = pd.read_csv('post_operative_dataset.csv', index_col='IDno')"
   ]
  },
  {
   "cell_type": "code",
   "execution_count": null,
   "metadata": {},
   "outputs": [],
   "source": [
    "pre_op = pd.read_csv('pre_operative_dataset.csv', index_col='IDno')"
   ]
  },
  {
   "cell_type": "markdown",
   "metadata": {},
   "source": [
    "# Predicting mortallity"
   ]
  },
  {
   "cell_type": "markdown",
   "metadata": {},
   "source": [
    "## Creating dataset containing same variables as EuroSCORE II"
   ]
  },
  {
   "cell_type": "code",
   "execution_count": null,
   "metadata": {},
   "outputs": [],
   "source": [
    "population_no_dup = population[~population.index.duplicated(keep='first')]"
   ]
  },
  {
   "cell_type": "code",
   "execution_count": null,
   "metadata": {},
   "outputs": [],
   "source": [
    "age = population['Alder på operationstidspunkt'][~population.index.duplicated(keep='first')]\n",
    "sex = population['Køn'][~population.index.duplicated(keep='first')]\n"
   ]
  },
  {
   "cell_type": "code",
   "execution_count": null,
   "metadata": {},
   "outputs": [],
   "source": [
    "sks_lung = [\"DJ40\"\n",
    ",\"DJ409\"\n",
    ",\"DJ41\"\n",
    ",\"DJ410\"\n",
    ",\"DJ411\"\n",
    ",\"DJ418\"\n",
    ",\"DJ42\"\n",
    ",\"DJ429\"\n",
    ",\"DJ429A\"\n",
    ",\"DJ429B\"\n",
    ",\"DJ43\"\n",
    ",\"DJ430\"\n",
    ",\"DJ431\"\n",
    ",\"DJ431A\"\n",
    ",\"DJ432\"\n",
    ",\"DJ438\"\n",
    ",\"DJ439\"\n",
    ",\"DJ439A\"\n",
    ",\"DJ44\"\n",
    ",\"DJ440\"\n",
    ",\"DJ441\"\n",
    ",\"DJ448\"\n",
    ",\"DJ448A\"\n",
    ",\"DJ448B\"\n",
    ",\"DJ448C\"\n",
    ",\"DJ449\"\n",
    ",\"DJ45\"\n",
    ",\"DJ450\"\n",
    ",\"DJ450A\"\n",
    ",\"DJ451\"\n",
    ",\"DJ451A\"\n",
    ",\"DJ458\"\n",
    ",\"DJ459\"\n",
    ",\"DJ46\"\n",
    ",\"DJ469\"\n",
    ",\"DJ47\"\n",
    ",\"DJ479\"] "
   ]
  },
  {
   "cell_type": "code",
   "execution_count": null,
   "metadata": {},
   "outputs": [],
   "source": [
    "euro_df = pd.DataFrame({\n",
    "    'age': age,\n",
    "    'sex': sex})"
   ]
  },
  {
   "cell_type": "code",
   "execution_count": null,
   "metadata": {},
   "outputs": [],
   "source": [
    "chronic_lung = pd.DataFrame(problem[problem['Diagnose SKS'].isin(sks_lung)]['Diagnose SKS'])\n",
    "euro_df['Chronic lung disease'] = 0\n",
    "\n",
    "for i in euro_df.index: \n",
    "    if i in chronic_lung.index:\n",
    "        euro_df.loc[i, 'Chronic lung disease'] = 1"
   ]
  }
 ],
 "metadata": {
  "kernelspec": {
   "display_name": "base",
   "language": "python",
   "name": "python3"
  },
  "language_info": {
   "codemirror_mode": {
    "name": "ipython",
    "version": 3
   },
   "file_extension": ".py",
   "mimetype": "text/x-python",
   "name": "python",
   "nbconvert_exporter": "python",
   "pygments_lexer": "ipython3",
   "version": "3.11.7"
  }
 },
 "nbformat": 4,
 "nbformat_minor": 2
}
